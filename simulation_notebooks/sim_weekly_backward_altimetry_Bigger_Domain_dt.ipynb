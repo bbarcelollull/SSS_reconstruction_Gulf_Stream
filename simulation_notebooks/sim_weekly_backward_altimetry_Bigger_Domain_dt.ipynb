{
 "cells": [
  {
   "cell_type": "markdown",
   "metadata": {},
   "source": [
    "# Simulation with AVISO fields\n"
   ]
  },
  {
   "cell_type": "markdown",
   "metadata": {},
   "source": [
    "### Weekly backward simulations within the Oleander domain (Gulf Stream). Running days= 7. Delayed-time simulations.\n",
    "\n",
    "### Modified for a bigger domain. \n",
    "\n"
   ]
  },
  {
   "cell_type": "code",
   "execution_count": 2,
   "metadata": {},
   "outputs": [],
   "source": [
    "%matplotlib inline\n",
    "from parcels import Field, FieldSet, ParticleSet, Variable, JITParticle, AdvectionRK4, plotTrajectoriesFile, ErrorCode\n",
    "import numpy as np\n",
    "import math\n",
    "from datetime import timedelta\n",
    "from operator import attrgetter\n",
    "from datetime import timedelta as delta\n",
    "\n",
    "from matplotlib              import dates as mdates\n",
    "from datetime                import datetime \n",
    "import pickle"
   ]
  },
  {
   "cell_type": "markdown",
   "metadata": {},
   "source": [
    "## Save the outputs in this directory"
   ]
  },
  {
   "cell_type": "code",
   "execution_count": 3,
   "metadata": {},
   "outputs": [],
   "source": [
    "dirsave    = '/Users/bbarcelo/HOME_SCIENCE/Data/2019_SSS_Ladvection/sim_weekly_all_Bigger_Domain/sim_outputs/' #save outputs directory"
   ]
  },
  {
   "cell_type": "markdown",
   "metadata": {},
   "source": [
    "## Altimetry data directory - for Bigger Domain"
   ]
  },
  {
   "cell_type": "code",
   "execution_count": 4,
   "metadata": {},
   "outputs": [
    {
     "name": "stdout",
     "output_type": "stream",
     "text": [
      "dataset-duacs-rep-global-merged-allsat-phy-l4_1583502357526.nc\n"
     ]
    }
   ],
   "source": [
    "dir_netcdf    = '/Users/bbarcelo/HOME_SCIENCE/Data/2019_SSS/SLA_GS_big_region/' \n",
    "# Data from 2015-03-31 to 2019-05-13\n",
    "\n",
    "file_currents = 'dataset-duacs-rep-global-merged-allsat-phy-l4_1583502357526.nc'\n",
    "print(file_currents)\n",
    "\n",
    "\n",
    "# current field file starts at this date, check for each new file the first date in altimetry_check_first_day.py\n",
    "date_ori     = mdates.date2num(datetime(2015, 3, 31, 0, 0, 0))  \n",
    "date_alt_fin = mdates.date2num(datetime(2019, 5, 13, 0, 0, 0)) #end day of delayed-time fiel  "
   ]
  },
  {
   "cell_type": "markdown",
   "metadata": {},
   "source": [
    "## Running times "
   ]
  },
  {
   "cell_type": "code",
   "execution_count": 5,
   "metadata": {},
   "outputs": [],
   "source": [
    "rund = [7,1] # run times for each simulation"
   ]
  },
  {
   "cell_type": "markdown",
   "metadata": {},
   "source": [
    "## Define the particles release grid"
   ]
  },
  {
   "cell_type": "code",
   "execution_count": 6,
   "metadata": {},
   "outputs": [],
   "source": [
    "# DOMAIN FOR weekly and Oleander simulations BIGGER DOMAIN\n",
    "lonmin, lonmax = -82, -63 #-74, -66 #-74, -68\n",
    "latmin, latmax =  25, 46 #35, 40 #37, 40 \n",
    "\n",
    "dx = 0.04\n",
    "\n",
    "lons, lats = np.meshgrid(np.arange(360+lonmin, 360+lonmax, dx), np.arange(latmin, latmax, dx))\n",
    "\n",
    "# we need to have lons, lats and times in a 1d vector (flatten)\n",
    "lonf, latf = lons.flatten(), lats.flatten()"
   ]
  },
  {
   "cell_type": "markdown",
   "metadata": {},
   "source": [
    "## Allow particles to leave the domain"
   ]
  },
  {
   "cell_type": "markdown",
   "metadata": {},
   "source": [
    "Allow particles to leave the domain. We need to tell Parcels that particles that leave the domain need to be deleted. We do that using a `Recovery Kernel`, which will be invoked when a particle encounters an `ErrorOutOfBounds` error:"
   ]
  },
  {
   "cell_type": "code",
   "execution_count": 7,
   "metadata": {},
   "outputs": [],
   "source": [
    "def DeleteParticle(particle, fieldset, time):\n",
    "    particle.delete()"
   ]
  },
  {
   "cell_type": "markdown",
   "metadata": {},
   "source": [
    "## File with the simulation dates"
   ]
  },
  {
   "cell_type": "code",
   "execution_count": 8,
   "metadata": {
    "scrolled": false
   },
   "outputs": [
    {
     "name": "stdout",
     "output_type": "stream",
     "text": [
      "[736696, 736703, 736710, 736717, 736724, 736731, 736738, 736745, 736752, 736759, 736766, 736773, 736780, 736787, 736794, 736801, 736808, 736815, 736822, 736829, 736836, 736843, 736850, 736857, 736864, 736871, 736878, 736885, 736892, 736899, 736906, 736913, 736920, 736927, 736934, 736941, 736948, 736955, 736962, 736969, 736976, 736983, 736990, 736997, 737004, 737011, 737018, 737025, 737032, 737039, 737046, 737053, 737060, 737067, 737074, 737081, 737088, 737095, 737102, 737109, 737116, 737123, 737130, 737137, 737144, 737151, 737158, 737165, 737172, 737179, 737186]\n"
     ]
    }
   ],
   "source": [
    "dir_dic    = '/Users/bbarcelo/HOME_SCIENCE/Data/2019_SSS_Ladvection/sim_weekly_all/'\n",
    "file_dic = 'sim_weekly_relase_dates.pkl'\n",
    "\n",
    "f = open(dir_dic + file_dic, 'rb')\n",
    "dict_release_dates = pickle.load(f)\n",
    "f.close() \n",
    "\n",
    "dates_release_all = dict_release_dates['date_release'] #- 0.5 #starting at 00:00 instead than at 12:00\n",
    "\n",
    "# only dates in which we have delayed-time altimetry data \n",
    "\n",
    "#ind_dt = np.where(dates_release_all<=date_alt_fin)\n",
    "#dates_release = list(dates_release_all.astype(int)[ind_dt])\n",
    "\n",
    "#restard code starting at this date\n",
    "date_restard = mdates.date2num(datetime(2018, 1, 2, 0, 0, 0)) \n",
    "\n",
    "ind_dt = np.where(np.logical_and(dates_release_all<=date_alt_fin, dates_release_all>=date_restard))\n",
    "dates_release = list(dates_release_all.astype(int)[ind_dt])\n",
    "\n",
    "\n",
    "print(dates_release)\n"
   ]
  },
  {
   "cell_type": "code",
   "execution_count": 9,
   "metadata": {},
   "outputs": [
    {
     "data": {
      "text/plain": [
       "71"
      ]
     },
     "execution_count": 9,
     "metadata": {},
     "output_type": "execute_result"
    }
   ],
   "source": [
    "len(dates_release)"
   ]
  },
  {
   "cell_type": "code",
   "execution_count": 10,
   "metadata": {},
   "outputs": [
    {
     "data": {
      "text/plain": [
       "736696.0"
      ]
     },
     "execution_count": 10,
     "metadata": {},
     "output_type": "execute_result"
    }
   ],
   "source": [
    "mdates.date2num(datetime(2018, 1, 2, 0, 0, 0)) "
   ]
  },
  {
   "cell_type": "code",
   "execution_count": 11,
   "metadata": {
    "scrolled": true
   },
   "outputs": [
    {
     "data": {
      "text/plain": [
       "737192.0"
      ]
     },
     "execution_count": 11,
     "metadata": {},
     "output_type": "execute_result"
    }
   ],
   "source": [
    "date_alt_fin"
   ]
  },
  {
   "cell_type": "code",
   "execution_count": 16,
   "metadata": {},
   "outputs": [
    {
     "name": "stdout",
     "output_type": "stream",
     "text": [
      "date ini simulations... 2015-04-07 12:00:00+00:00\n"
     ]
    }
   ],
   "source": [
    "print('date ini simulations...', mdates.num2date(dates_release_all.min()))"
   ]
  },
  {
   "cell_type": "markdown",
   "metadata": {},
   "source": [
    "## Loop, do simulations for each date in the list"
   ]
  },
  {
   "cell_type": "code",
   "execution_count": 15,
   "metadata": {},
   "outputs": [
    {
     "name": "stderr",
     "output_type": "stream",
     "text": [
      "WARNING: Casting depth data to np.float32\n"
     ]
    },
    {
     "name": "stdout",
     "output_type": "stream",
     "text": [
      "simulation date... 2018 1 2\n",
      "Starting simulation for run day... 7\n"
     ]
    },
    {
     "name": "stderr",
     "output_type": "stream",
     "text": [
      "INFO: Compiled JITParticleAdvectionRK4 ==> /var/folders/1r/g9d70q7x59s6sd00xl3mmyfw0000gn/T/parcels-501/50855b136d7d259ba9a7bb4208838775.so\n",
      "100% (604800.0 of 604800.0) |############| Elapsed Time: 1:13:46 Time:  1:13:46\n"
     ]
    },
    {
     "name": "stdout",
     "output_type": "stream",
     "text": [
      "Simulation saved as...  sim_weekly_back_alt_BD_20180102_07days.nc\n",
      "Starting simulation for run day... 1\n"
     ]
    },
    {
     "name": "stderr",
     "output_type": "stream",
     "text": [
      "INFO: Compiled JITParticleAdvectionRK4 ==> /var/folders/1r/g9d70q7x59s6sd00xl3mmyfw0000gn/T/parcels-501/5037a67d26790ec8fbd3c4af53fe4f8a.so\n",
      "100% (86400.0 of 86400.0) |##############| Elapsed Time: 0:05:44 Time:  0:05:44\n"
     ]
    },
    {
     "name": "stdout",
     "output_type": "stream",
     "text": [
      "Simulation saved as...  sim_weekly_back_alt_BD_20180102_01days.nc\n",
      "\n",
      "Simulations finished for this date!!\n",
      "\n",
      "simulation date... 2018 1 9\n",
      "Starting simulation for run day... 7\n"
     ]
    },
    {
     "name": "stderr",
     "output_type": "stream",
     "text": [
      "INFO: Compiled JITParticleAdvectionRK4 ==> /var/folders/1r/g9d70q7x59s6sd00xl3mmyfw0000gn/T/parcels-501/a15cbfcf73bf9bf55d7d6f326501b9de.so\n",
      "100% (604800.0 of 604800.0) |############| Elapsed Time: 1:12:31 Time:  1:12:31\n"
     ]
    },
    {
     "name": "stdout",
     "output_type": "stream",
     "text": [
      "Simulation saved as...  sim_weekly_back_alt_BD_20180109_07days.nc\n",
      "Starting simulation for run day... 1\n"
     ]
    },
    {
     "name": "stderr",
     "output_type": "stream",
     "text": [
      "INFO: Compiled JITParticleAdvectionRK4 ==> /var/folders/1r/g9d70q7x59s6sd00xl3mmyfw0000gn/T/parcels-501/cb8fa3a8aab0ade9bea1c2fb84a11f54.so\n",
      "100% (86400.0 of 86400.0) |##############| Elapsed Time: 0:06:02 Time:  0:06:02\n"
     ]
    },
    {
     "name": "stdout",
     "output_type": "stream",
     "text": [
      "Simulation saved as...  sim_weekly_back_alt_BD_20180109_01days.nc\n",
      "\n",
      "Simulations finished for this date!!\n",
      "\n",
      "simulation date... 2018 1 16\n",
      "Starting simulation for run day... 7\n"
     ]
    },
    {
     "name": "stderr",
     "output_type": "stream",
     "text": [
      "INFO: Compiled JITParticleAdvectionRK4 ==> /var/folders/1r/g9d70q7x59s6sd00xl3mmyfw0000gn/T/parcels-501/e4fd0f328be684c7036f3e2fe73931c3.so\n",
      "100% (604800.0 of 604800.0) |############| Elapsed Time: 1:11:38 Time:  1:11:38\n"
     ]
    },
    {
     "name": "stdout",
     "output_type": "stream",
     "text": [
      "Simulation saved as...  sim_weekly_back_alt_BD_20180116_07days.nc\n",
      "Starting simulation for run day... 1\n"
     ]
    },
    {
     "name": "stderr",
     "output_type": "stream",
     "text": [
      "INFO: Compiled JITParticleAdvectionRK4 ==> /var/folders/1r/g9d70q7x59s6sd00xl3mmyfw0000gn/T/parcels-501/439c16e0a0910136147272bec5dda521.so\n",
      "100% (86400.0 of 86400.0) |##############| Elapsed Time: 0:05:26 Time:  0:05:26\n"
     ]
    },
    {
     "name": "stdout",
     "output_type": "stream",
     "text": [
      "Simulation saved as...  sim_weekly_back_alt_BD_20180116_01days.nc\n",
      "\n",
      "Simulations finished for this date!!\n",
      "\n",
      "simulation date... 2018 1 23\n",
      "Starting simulation for run day... 7\n"
     ]
    },
    {
     "name": "stderr",
     "output_type": "stream",
     "text": [
      "INFO: Compiled JITParticleAdvectionRK4 ==> /var/folders/1r/g9d70q7x59s6sd00xl3mmyfw0000gn/T/parcels-501/59248f5c3438da1b4a449c6f802b3643.so\n",
      "100% (604800.0 of 604800.0) |############| Elapsed Time: 1:13:51 Time:  1:13:51\n"
     ]
    },
    {
     "name": "stdout",
     "output_type": "stream",
     "text": [
      "Simulation saved as...  sim_weekly_back_alt_BD_20180123_07days.nc\n",
      "Starting simulation for run day... 1\n"
     ]
    },
    {
     "name": "stderr",
     "output_type": "stream",
     "text": [
      "INFO: Compiled JITParticleAdvectionRK4 ==> /var/folders/1r/g9d70q7x59s6sd00xl3mmyfw0000gn/T/parcels-501/7abded26d26a3b3e2fa8a11b2747fdb5.so\n",
      "100% (86400.0 of 86400.0) |##############| Elapsed Time: 0:05:45 Time:  0:05:45\n"
     ]
    },
    {
     "name": "stdout",
     "output_type": "stream",
     "text": [
      "Simulation saved as...  sim_weekly_back_alt_BD_20180123_01days.nc\n",
      "\n",
      "Simulations finished for this date!!\n",
      "\n",
      "simulation date... 2018 1 30\n",
      "Starting simulation for run day... 7\n"
     ]
    },
    {
     "name": "stderr",
     "output_type": "stream",
     "text": [
      "INFO: Compiled JITParticleAdvectionRK4 ==> /var/folders/1r/g9d70q7x59s6sd00xl3mmyfw0000gn/T/parcels-501/2454732d58b8ca68cce226cfe50902b8.so\n",
      "100% (604800.0 of 604800.0) |############| Elapsed Time: 1:10:45 Time:  1:10:45\n"
     ]
    },
    {
     "name": "stdout",
     "output_type": "stream",
     "text": [
      "Simulation saved as...  sim_weekly_back_alt_BD_20180130_07days.nc\n",
      "Starting simulation for run day... 1\n"
     ]
    },
    {
     "name": "stderr",
     "output_type": "stream",
     "text": [
      "INFO: Compiled JITParticleAdvectionRK4 ==> /var/folders/1r/g9d70q7x59s6sd00xl3mmyfw0000gn/T/parcels-501/4097b0bf728c7cc08ef11762983ad500.so\n",
      "100% (86400.0 of 86400.0) |##############| Elapsed Time: 0:05:24 Time:  0:05:24\n"
     ]
    },
    {
     "name": "stdout",
     "output_type": "stream",
     "text": [
      "Simulation saved as...  sim_weekly_back_alt_BD_20180130_01days.nc\n",
      "\n",
      "Simulations finished for this date!!\n",
      "\n",
      "simulation date... 2018 2 6\n",
      "Starting simulation for run day... 7\n"
     ]
    },
    {
     "name": "stderr",
     "output_type": "stream",
     "text": [
      "INFO: Compiled JITParticleAdvectionRK4 ==> /var/folders/1r/g9d70q7x59s6sd00xl3mmyfw0000gn/T/parcels-501/1e901e7ec05e1e30cf2f72c01533e060.so\n",
      "100% (604800.0 of 604800.0) |############| Elapsed Time: 1:09:53 Time:  1:09:53\n"
     ]
    },
    {
     "name": "stdout",
     "output_type": "stream",
     "text": [
      "Simulation saved as...  sim_weekly_back_alt_BD_20180206_07days.nc\n",
      "Starting simulation for run day... 1\n"
     ]
    },
    {
     "name": "stderr",
     "output_type": "stream",
     "text": [
      "INFO: Compiled JITParticleAdvectionRK4 ==> /var/folders/1r/g9d70q7x59s6sd00xl3mmyfw0000gn/T/parcels-501/da5ec3cffc7e0fdc3256370533c5e3f8.so\n",
      "100% (86400.0 of 86400.0) |##############| Elapsed Time: 0:05:26 Time:  0:05:26\n"
     ]
    },
    {
     "name": "stdout",
     "output_type": "stream",
     "text": [
      "Simulation saved as...  sim_weekly_back_alt_BD_20180206_01days.nc\n",
      "\n",
      "Simulations finished for this date!!\n",
      "\n",
      "simulation date... 2018 2 13\n",
      "Starting simulation for run day... 7\n"
     ]
    },
    {
     "name": "stderr",
     "output_type": "stream",
     "text": [
      "INFO: Compiled JITParticleAdvectionRK4 ==> /var/folders/1r/g9d70q7x59s6sd00xl3mmyfw0000gn/T/parcels-501/2330ba7f581d0d1469e12b06434910fe.so\n",
      "100% (604800.0 of 604800.0) |############| Elapsed Time: 1:09:46 Time:  1:09:46\n"
     ]
    },
    {
     "name": "stdout",
     "output_type": "stream",
     "text": [
      "Simulation saved as...  sim_weekly_back_alt_BD_20180213_07days.nc\n",
      "Starting simulation for run day... 1\n"
     ]
    },
    {
     "name": "stderr",
     "output_type": "stream",
     "text": [
      "INFO: Compiled JITParticleAdvectionRK4 ==> /var/folders/1r/g9d70q7x59s6sd00xl3mmyfw0000gn/T/parcels-501/27feab6358ece50ddf821346607c360f.so\n",
      "100% (86400.0 of 86400.0) |##############| Elapsed Time: 0:05:31 Time:  0:05:31\n"
     ]
    },
    {
     "name": "stdout",
     "output_type": "stream",
     "text": [
      "Simulation saved as...  sim_weekly_back_alt_BD_20180213_01days.nc\n",
      "\n",
      "Simulations finished for this date!!\n",
      "\n",
      "simulation date... 2018 2 20\n",
      "Starting simulation for run day... 7\n"
     ]
    },
    {
     "name": "stderr",
     "output_type": "stream",
     "text": [
      "INFO: Compiled JITParticleAdvectionRK4 ==> /var/folders/1r/g9d70q7x59s6sd00xl3mmyfw0000gn/T/parcels-501/c651c1dedbafa5023c89fbeef1f23cb5.so\n",
      "100% (604800.0 of 604800.0) |############| Elapsed Time: 1:09:59 Time:  1:09:59\n"
     ]
    },
    {
     "name": "stdout",
     "output_type": "stream",
     "text": [
      "Simulation saved as...  sim_weekly_back_alt_BD_20180220_07days.nc\n",
      "Starting simulation for run day... 1\n"
     ]
    },
    {
     "name": "stderr",
     "output_type": "stream",
     "text": [
      "INFO: Compiled JITParticleAdvectionRK4 ==> /var/folders/1r/g9d70q7x59s6sd00xl3mmyfw0000gn/T/parcels-501/78cdfa2a944668e45186446b3a7a1fae.so\n",
      "100% (86400.0 of 86400.0) |##############| Elapsed Time: 0:05:27 Time:  0:05:27\n"
     ]
    },
    {
     "name": "stdout",
     "output_type": "stream",
     "text": [
      "Simulation saved as...  sim_weekly_back_alt_BD_20180220_01days.nc\n",
      "\n",
      "Simulations finished for this date!!\n",
      "\n",
      "simulation date... 2018 2 27\n",
      "Starting simulation for run day... 7\n"
     ]
    },
    {
     "name": "stderr",
     "output_type": "stream",
     "text": [
      "INFO: Compiled JITParticleAdvectionRK4 ==> /var/folders/1r/g9d70q7x59s6sd00xl3mmyfw0000gn/T/parcels-501/b8a5ebcfc90e8efd5728bcceecd5b330.so\n",
      "100% (604800.0 of 604800.0) |############| Elapsed Time: 1:09:34 Time:  1:09:34\n"
     ]
    },
    {
     "name": "stdout",
     "output_type": "stream",
     "text": [
      "Simulation saved as...  sim_weekly_back_alt_BD_20180227_07days.nc\n",
      "Starting simulation for run day... 1\n"
     ]
    },
    {
     "name": "stderr",
     "output_type": "stream",
     "text": [
      "INFO: Compiled JITParticleAdvectionRK4 ==> /var/folders/1r/g9d70q7x59s6sd00xl3mmyfw0000gn/T/parcels-501/0bd9a51511412928f682fd04349e6c94.so\n",
      "100% (86400.0 of 86400.0) |##############| Elapsed Time: 0:05:27 Time:  0:05:27\n"
     ]
    },
    {
     "name": "stdout",
     "output_type": "stream",
     "text": [
      "Simulation saved as...  sim_weekly_back_alt_BD_20180227_01days.nc\n",
      "\n",
      "Simulations finished for this date!!\n",
      "\n",
      "simulation date... 2018 3 6\n",
      "Starting simulation for run day... 7\n"
     ]
    },
    {
     "name": "stderr",
     "output_type": "stream",
     "text": [
      "INFO: Compiled JITParticleAdvectionRK4 ==> /var/folders/1r/g9d70q7x59s6sd00xl3mmyfw0000gn/T/parcels-501/430e84f51507a49f354ef89dd45fb5e3.so\n",
      "100% (604800.0 of 604800.0) |############| Elapsed Time: 1:09:41 Time:  1:09:41\n"
     ]
    },
    {
     "name": "stdout",
     "output_type": "stream",
     "text": [
      "Simulation saved as...  sim_weekly_back_alt_BD_20180306_07days.nc\n",
      "Starting simulation for run day... 1\n"
     ]
    },
    {
     "name": "stderr",
     "output_type": "stream",
     "text": [
      "INFO: Compiled JITParticleAdvectionRK4 ==> /var/folders/1r/g9d70q7x59s6sd00xl3mmyfw0000gn/T/parcels-501/9bb794ece269ccea7effc50e3b21b8f7.so\n",
      "100% (86400.0 of 86400.0) |##############| Elapsed Time: 0:05:24 Time:  0:05:24\n"
     ]
    },
    {
     "name": "stdout",
     "output_type": "stream",
     "text": [
      "Simulation saved as...  sim_weekly_back_alt_BD_20180306_01days.nc\n",
      "\n",
      "Simulations finished for this date!!\n",
      "\n",
      "simulation date... 2018 3 13\n",
      "Starting simulation for run day... 7\n"
     ]
    },
    {
     "name": "stderr",
     "output_type": "stream",
     "text": [
      "INFO: Compiled JITParticleAdvectionRK4 ==> /var/folders/1r/g9d70q7x59s6sd00xl3mmyfw0000gn/T/parcels-501/1ae5d1bc1838b68ed7505e907e59a03d.so\n",
      "100% (604800.0 of 604800.0) |############| Elapsed Time: 1:10:07 Time:  1:10:07\n"
     ]
    },
    {
     "name": "stdout",
     "output_type": "stream",
     "text": [
      "Simulation saved as...  sim_weekly_back_alt_BD_20180313_07days.nc\n",
      "Starting simulation for run day... 1\n"
     ]
    },
    {
     "name": "stderr",
     "output_type": "stream",
     "text": [
      "INFO: Compiled JITParticleAdvectionRK4 ==> /var/folders/1r/g9d70q7x59s6sd00xl3mmyfw0000gn/T/parcels-501/ae88e935c80accfd8a7198d416e5a605.so\n",
      "100% (86400.0 of 86400.0) |##############| Elapsed Time: 0:05:25 Time:  0:05:25\n"
     ]
    },
    {
     "name": "stdout",
     "output_type": "stream",
     "text": [
      "Simulation saved as...  sim_weekly_back_alt_BD_20180313_01days.nc\n",
      "\n",
      "Simulations finished for this date!!\n",
      "\n",
      "simulation date... 2018 3 20\n",
      "Starting simulation for run day... 7\n"
     ]
    },
    {
     "name": "stderr",
     "output_type": "stream",
     "text": [
      "INFO: Compiled JITParticleAdvectionRK4 ==> /var/folders/1r/g9d70q7x59s6sd00xl3mmyfw0000gn/T/parcels-501/073b69da497b930ecc3e8ad766c41d05.so\n",
      "100% (604800.0 of 604800.0) |############| Elapsed Time: 1:09:54 Time:  1:09:54\n"
     ]
    },
    {
     "name": "stdout",
     "output_type": "stream",
     "text": [
      "Simulation saved as...  sim_weekly_back_alt_BD_20180320_07days.nc\n",
      "Starting simulation for run day... 1\n"
     ]
    },
    {
     "name": "stderr",
     "output_type": "stream",
     "text": [
      "INFO: Compiled JITParticleAdvectionRK4 ==> /var/folders/1r/g9d70q7x59s6sd00xl3mmyfw0000gn/T/parcels-501/efeb5373c8a0562562ab4bb8b3178efb.so\n",
      "100% (86400.0 of 86400.0) |##############| Elapsed Time: 0:05:25 Time:  0:05:25\n"
     ]
    },
    {
     "name": "stdout",
     "output_type": "stream",
     "text": [
      "Simulation saved as...  sim_weekly_back_alt_BD_20180320_01days.nc\n",
      "\n",
      "Simulations finished for this date!!\n",
      "\n",
      "simulation date... 2018 3 27\n",
      "Starting simulation for run day... 7\n"
     ]
    },
    {
     "name": "stderr",
     "output_type": "stream",
     "text": [
      "INFO: Compiled JITParticleAdvectionRK4 ==> /var/folders/1r/g9d70q7x59s6sd00xl3mmyfw0000gn/T/parcels-501/4ba0d1001be8a778dd773ed2ad2a0a49.so\n",
      "100% (604800.0 of 604800.0) |############| Elapsed Time: 1:12:15 Time:  1:12:15\n"
     ]
    },
    {
     "name": "stdout",
     "output_type": "stream",
     "text": [
      "Simulation saved as...  sim_weekly_back_alt_BD_20180327_07days.nc\n",
      "Starting simulation for run day... 1\n"
     ]
    },
    {
     "name": "stderr",
     "output_type": "stream",
     "text": [
      "INFO: Compiled JITParticleAdvectionRK4 ==> /var/folders/1r/g9d70q7x59s6sd00xl3mmyfw0000gn/T/parcels-501/2e0d411c470139b3078c7e1f20dc0d16.so\n",
      "100% (86400.0 of 86400.0) |##############| Elapsed Time: 0:05:52 Time:  0:05:52\n"
     ]
    },
    {
     "name": "stdout",
     "output_type": "stream",
     "text": [
      "Simulation saved as...  sim_weekly_back_alt_BD_20180327_01days.nc\n",
      "\n",
      "Simulations finished for this date!!\n",
      "\n",
      "simulation date... 2018 4 3\n",
      "Starting simulation for run day... 7\n"
     ]
    },
    {
     "name": "stderr",
     "output_type": "stream",
     "text": [
      "INFO: Compiled JITParticleAdvectionRK4 ==> /var/folders/1r/g9d70q7x59s6sd00xl3mmyfw0000gn/T/parcels-501/c5deff528d4701b17af8f7dcdc7f9481.so\n",
      "100% (604800.0 of 604800.0) |############| Elapsed Time: 1:13:20 Time:  1:13:20\n"
     ]
    },
    {
     "name": "stdout",
     "output_type": "stream",
     "text": [
      "Simulation saved as...  sim_weekly_back_alt_BD_20180403_07days.nc\n",
      "Starting simulation for run day... 1\n"
     ]
    },
    {
     "name": "stderr",
     "output_type": "stream",
     "text": [
      "INFO: Compiled JITParticleAdvectionRK4 ==> /var/folders/1r/g9d70q7x59s6sd00xl3mmyfw0000gn/T/parcels-501/c8366a9c5fa97ee07c58b2d83cf64998.so\n",
      "100% (86400.0 of 86400.0) |##############| Elapsed Time: 0:05:46 Time:  0:05:46\n"
     ]
    },
    {
     "name": "stdout",
     "output_type": "stream",
     "text": [
      "Simulation saved as...  sim_weekly_back_alt_BD_20180403_01days.nc\n",
      "\n",
      "Simulations finished for this date!!\n",
      "\n",
      "simulation date... 2018 4 10\n",
      "Starting simulation for run day... 7\n"
     ]
    },
    {
     "name": "stderr",
     "output_type": "stream",
     "text": [
      "INFO: Compiled JITParticleAdvectionRK4 ==> /var/folders/1r/g9d70q7x59s6sd00xl3mmyfw0000gn/T/parcels-501/4c53f097fe9144269a8ad99333d54095.so\n",
      "100% (604800.0 of 604800.0) |############| Elapsed Time: 1:13:56 Time:  1:13:56\n"
     ]
    },
    {
     "name": "stdout",
     "output_type": "stream",
     "text": [
      "Simulation saved as...  sim_weekly_back_alt_BD_20180410_07days.nc\n",
      "Starting simulation for run day... 1\n"
     ]
    },
    {
     "name": "stderr",
     "output_type": "stream",
     "text": [
      "INFO: Compiled JITParticleAdvectionRK4 ==> /var/folders/1r/g9d70q7x59s6sd00xl3mmyfw0000gn/T/parcels-501/e95664998257c2ff8a9d39b72912e5a5.so\n",
      "100% (86400.0 of 86400.0) |##############| Elapsed Time: 0:05:35 Time:  0:05:35\n"
     ]
    },
    {
     "name": "stdout",
     "output_type": "stream",
     "text": [
      "Simulation saved as...  sim_weekly_back_alt_BD_20180410_01days.nc\n",
      "\n",
      "Simulations finished for this date!!\n",
      "\n",
      "simulation date... 2018 4 17\n",
      "Starting simulation for run day... 7\n"
     ]
    },
    {
     "name": "stderr",
     "output_type": "stream",
     "text": [
      "INFO: Compiled JITParticleAdvectionRK4 ==> /var/folders/1r/g9d70q7x59s6sd00xl3mmyfw0000gn/T/parcels-501/599ba7627e5112ae89e465d28c7641d9.so\n",
      "100% (604800.0 of 604800.0) |############| Elapsed Time: 1:13:17 Time:  1:13:17\n"
     ]
    },
    {
     "name": "stdout",
     "output_type": "stream",
     "text": [
      "Simulation saved as...  sim_weekly_back_alt_BD_20180417_07days.nc\n",
      "Starting simulation for run day... 1\n"
     ]
    },
    {
     "name": "stderr",
     "output_type": "stream",
     "text": [
      "INFO: Compiled JITParticleAdvectionRK4 ==> /var/folders/1r/g9d70q7x59s6sd00xl3mmyfw0000gn/T/parcels-501/eb0dca09306e52a477edcdd8e4c75275.so\n",
      "100% (86400.0 of 86400.0) |##############| Elapsed Time: 0:05:49 Time:  0:05:49\n"
     ]
    },
    {
     "name": "stdout",
     "output_type": "stream",
     "text": [
      "Simulation saved as...  sim_weekly_back_alt_BD_20180417_01days.nc\n",
      "\n",
      "Simulations finished for this date!!\n",
      "\n",
      "simulation date... 2018 4 24\n",
      "Starting simulation for run day... 7\n"
     ]
    },
    {
     "name": "stderr",
     "output_type": "stream",
     "text": [
      "INFO: Compiled JITParticleAdvectionRK4 ==> /var/folders/1r/g9d70q7x59s6sd00xl3mmyfw0000gn/T/parcels-501/98380420ae295a1e55d3287a8c18303f.so\n",
      "100% (604800.0 of 604800.0) |############| Elapsed Time: 1:10:52 Time:  1:10:52\n"
     ]
    },
    {
     "name": "stdout",
     "output_type": "stream",
     "text": [
      "Simulation saved as...  sim_weekly_back_alt_BD_20180424_07days.nc\n",
      "Starting simulation for run day... 1\n"
     ]
    },
    {
     "name": "stderr",
     "output_type": "stream",
     "text": [
      "INFO: Compiled JITParticleAdvectionRK4 ==> /var/folders/1r/g9d70q7x59s6sd00xl3mmyfw0000gn/T/parcels-501/b5985355cebe0ebcbfb33b0b42201a27.so\n",
      "100% (86400.0 of 86400.0) |##############| Elapsed Time: 0:06:07 Time:  0:06:07\n"
     ]
    },
    {
     "name": "stdout",
     "output_type": "stream",
     "text": [
      "Simulation saved as...  sim_weekly_back_alt_BD_20180424_01days.nc\n",
      "\n",
      "Simulations finished for this date!!\n",
      "\n",
      "simulation date... 2018 5 1\n",
      "Starting simulation for run day... 7\n"
     ]
    },
    {
     "name": "stderr",
     "output_type": "stream",
     "text": [
      "INFO: Compiled JITParticleAdvectionRK4 ==> /var/folders/1r/g9d70q7x59s6sd00xl3mmyfw0000gn/T/parcels-501/7df11ae542953d85dc3a70e15fe2a6b6.so\n",
      "100% (604800.0 of 604800.0) |############| Elapsed Time: 1:23:02 Time:  1:23:02\n"
     ]
    },
    {
     "name": "stdout",
     "output_type": "stream",
     "text": [
      "Simulation saved as...  sim_weekly_back_alt_BD_20180501_07days.nc\n",
      "Starting simulation for run day... 1\n"
     ]
    },
    {
     "name": "stderr",
     "output_type": "stream",
     "text": [
      "INFO: Compiled JITParticleAdvectionRK4 ==> /var/folders/1r/g9d70q7x59s6sd00xl3mmyfw0000gn/T/parcels-501/1acf8bb86baeba25a2dc0c44deb9038c.so\n",
      "100% (86400.0 of 86400.0) |##############| Elapsed Time: 0:06:01 Time:  0:06:01\n"
     ]
    },
    {
     "name": "stdout",
     "output_type": "stream",
     "text": [
      "Simulation saved as...  sim_weekly_back_alt_BD_20180501_01days.nc\n",
      "\n",
      "Simulations finished for this date!!\n",
      "\n",
      "simulation date... 2018 5 8\n",
      "Starting simulation for run day... 7\n"
     ]
    },
    {
     "name": "stderr",
     "output_type": "stream",
     "text": [
      "INFO: Compiled JITParticleAdvectionRK4 ==> /var/folders/1r/g9d70q7x59s6sd00xl3mmyfw0000gn/T/parcels-501/a38908314a2840b1a471efdab613cc7b.so\n",
      "100% (604800.0 of 604800.0) |############| Elapsed Time: 3:18:22 Time:  3:18:22\n"
     ]
    },
    {
     "name": "stdout",
     "output_type": "stream",
     "text": [
      "Simulation saved as...  sim_weekly_back_alt_BD_20180508_07days.nc\n",
      "Starting simulation for run day... 1\n"
     ]
    },
    {
     "name": "stderr",
     "output_type": "stream",
     "text": [
      "INFO: Compiled JITParticleAdvectionRK4 ==> /var/folders/1r/g9d70q7x59s6sd00xl3mmyfw0000gn/T/parcels-501/d09a5799b8350faadc929b554ef5fbb0.so\n",
      "100% (86400.0 of 86400.0) |##############| Elapsed Time: 0:05:24 Time:  0:05:24\n"
     ]
    },
    {
     "name": "stdout",
     "output_type": "stream",
     "text": [
      "Simulation saved as...  sim_weekly_back_alt_BD_20180508_01days.nc\n",
      "\n",
      "Simulations finished for this date!!\n",
      "\n",
      "simulation date... 2018 5 15\n",
      "Starting simulation for run day... 7\n"
     ]
    },
    {
     "name": "stderr",
     "output_type": "stream",
     "text": [
      "INFO: Compiled JITParticleAdvectionRK4 ==> /var/folders/1r/g9d70q7x59s6sd00xl3mmyfw0000gn/T/parcels-501/4bf91ef81ed1b6434f8dc9ba4be912a9.so\n",
      "100% (604800.0 of 604800.0) |############| Elapsed Time: 1:10:12 Time:  1:10:12\n"
     ]
    },
    {
     "name": "stdout",
     "output_type": "stream",
     "text": [
      "Simulation saved as...  sim_weekly_back_alt_BD_20180515_07days.nc\n",
      "Starting simulation for run day... 1\n"
     ]
    },
    {
     "name": "stderr",
     "output_type": "stream",
     "text": [
      "INFO: Compiled JITParticleAdvectionRK4 ==> /var/folders/1r/g9d70q7x59s6sd00xl3mmyfw0000gn/T/parcels-501/648aa96e9d7de3df7675452b5c6463e5.so\n",
      "100% (86400.0 of 86400.0) |##############| Elapsed Time: 0:05:26 Time:  0:05:26\n"
     ]
    },
    {
     "name": "stdout",
     "output_type": "stream",
     "text": [
      "Simulation saved as...  sim_weekly_back_alt_BD_20180515_01days.nc\n",
      "\n",
      "Simulations finished for this date!!\n",
      "\n",
      "simulation date... 2018 5 22\n",
      "Starting simulation for run day... 7\n"
     ]
    },
    {
     "name": "stderr",
     "output_type": "stream",
     "text": [
      "INFO: Compiled JITParticleAdvectionRK4 ==> /var/folders/1r/g9d70q7x59s6sd00xl3mmyfw0000gn/T/parcels-501/0e105611b03a58032855a7f338a122c8.so\n",
      "100% (604800.0 of 604800.0) |############| Elapsed Time: 1:10:04 Time:  1:10:04\n"
     ]
    },
    {
     "name": "stdout",
     "output_type": "stream",
     "text": [
      "Simulation saved as...  sim_weekly_back_alt_BD_20180522_07days.nc\n",
      "Starting simulation for run day... 1\n"
     ]
    },
    {
     "name": "stderr",
     "output_type": "stream",
     "text": [
      "INFO: Compiled JITParticleAdvectionRK4 ==> /var/folders/1r/g9d70q7x59s6sd00xl3mmyfw0000gn/T/parcels-501/6968512cb1ba30f8c4d9513b6034baec.so\n",
      "100% (86400.0 of 86400.0) |##############| Elapsed Time: 0:05:26 Time:  0:05:26\n"
     ]
    },
    {
     "name": "stdout",
     "output_type": "stream",
     "text": [
      "Simulation saved as...  sim_weekly_back_alt_BD_20180522_01days.nc\n",
      "\n",
      "Simulations finished for this date!!\n",
      "\n",
      "simulation date... 2018 5 29\n",
      "Starting simulation for run day... 7\n"
     ]
    },
    {
     "name": "stderr",
     "output_type": "stream",
     "text": [
      "INFO: Compiled JITParticleAdvectionRK4 ==> /var/folders/1r/g9d70q7x59s6sd00xl3mmyfw0000gn/T/parcels-501/262b83693ced7ac8f1aae6dea4debbd0.so\n",
      "100% (604800.0 of 604800.0) |############| Elapsed Time: 1:09:59 Time:  1:09:59\n"
     ]
    },
    {
     "name": "stdout",
     "output_type": "stream",
     "text": [
      "Simulation saved as...  sim_weekly_back_alt_BD_20180529_07days.nc\n",
      "Starting simulation for run day... 1\n"
     ]
    },
    {
     "name": "stderr",
     "output_type": "stream",
     "text": [
      "INFO: Compiled JITParticleAdvectionRK4 ==> /var/folders/1r/g9d70q7x59s6sd00xl3mmyfw0000gn/T/parcels-501/deac40570bda5d0fa595c699ef2a4ba8.so\n",
      "100% (86400.0 of 86400.0) |##############| Elapsed Time: 0:05:24 Time:  0:05:24\n"
     ]
    },
    {
     "name": "stdout",
     "output_type": "stream",
     "text": [
      "Simulation saved as...  sim_weekly_back_alt_BD_20180529_01days.nc\n",
      "\n",
      "Simulations finished for this date!!\n",
      "\n",
      "simulation date... 2018 6 5\n",
      "Starting simulation for run day... 7\n"
     ]
    },
    {
     "name": "stderr",
     "output_type": "stream",
     "text": [
      "INFO: Compiled JITParticleAdvectionRK4 ==> /var/folders/1r/g9d70q7x59s6sd00xl3mmyfw0000gn/T/parcels-501/965c5b8b556cc87efc8b08ff7fc6dc84.so\n",
      "100% (604800.0 of 604800.0) |############| Elapsed Time: 1:10:03 Time:  1:10:03\n"
     ]
    },
    {
     "name": "stdout",
     "output_type": "stream",
     "text": [
      "Simulation saved as...  sim_weekly_back_alt_BD_20180605_07days.nc\n",
      "Starting simulation for run day... 1\n"
     ]
    },
    {
     "name": "stderr",
     "output_type": "stream",
     "text": [
      "INFO: Compiled JITParticleAdvectionRK4 ==> /var/folders/1r/g9d70q7x59s6sd00xl3mmyfw0000gn/T/parcels-501/0c909b04c24f7ba8e0d6d94b1b7e9d88.so\n",
      "100% (86400.0 of 86400.0) |##############| Elapsed Time: 0:05:26 Time:  0:05:26\n"
     ]
    },
    {
     "name": "stdout",
     "output_type": "stream",
     "text": [
      "Simulation saved as...  sim_weekly_back_alt_BD_20180605_01days.nc\n",
      "\n",
      "Simulations finished for this date!!\n",
      "\n",
      "simulation date... 2018 6 12\n",
      "Starting simulation for run day... 7\n"
     ]
    },
    {
     "name": "stderr",
     "output_type": "stream",
     "text": [
      "INFO: Compiled JITParticleAdvectionRK4 ==> /var/folders/1r/g9d70q7x59s6sd00xl3mmyfw0000gn/T/parcels-501/df042160e71675be0b4a3cb506147599.so\n",
      "100% (604800.0 of 604800.0) |############| Elapsed Time: 1:09:55 Time:  1:09:55\n"
     ]
    },
    {
     "name": "stdout",
     "output_type": "stream",
     "text": [
      "Simulation saved as...  sim_weekly_back_alt_BD_20180612_07days.nc\n",
      "Starting simulation for run day... 1\n"
     ]
    },
    {
     "name": "stderr",
     "output_type": "stream",
     "text": [
      "INFO: Compiled JITParticleAdvectionRK4 ==> /var/folders/1r/g9d70q7x59s6sd00xl3mmyfw0000gn/T/parcels-501/1959a4bc7c51da8fa0392690bfc8feea.so\n",
      "100% (86400.0 of 86400.0) |##############| Elapsed Time: 0:05:37 Time:  0:05:37\n"
     ]
    },
    {
     "name": "stdout",
     "output_type": "stream",
     "text": [
      "Simulation saved as...  sim_weekly_back_alt_BD_20180612_01days.nc\n",
      "\n",
      "Simulations finished for this date!!\n",
      "\n",
      "simulation date... 2018 6 19\n",
      "Starting simulation for run day... 7\n"
     ]
    },
    {
     "name": "stderr",
     "output_type": "stream",
     "text": [
      "INFO: Compiled JITParticleAdvectionRK4 ==> /var/folders/1r/g9d70q7x59s6sd00xl3mmyfw0000gn/T/parcels-501/301dc093c8074e03a24d57c6a2404501.so\n",
      "100% (604800.0 of 604800.0) |############| Elapsed Time: 1:14:53 Time:  1:14:53\n"
     ]
    },
    {
     "name": "stdout",
     "output_type": "stream",
     "text": [
      "Simulation saved as...  sim_weekly_back_alt_BD_20180619_07days.nc\n",
      "Starting simulation for run day... 1\n"
     ]
    },
    {
     "name": "stderr",
     "output_type": "stream",
     "text": [
      "INFO: Compiled JITParticleAdvectionRK4 ==> /var/folders/1r/g9d70q7x59s6sd00xl3mmyfw0000gn/T/parcels-501/59cf17c26b58bebb9a79fe7b240f6115.so\n",
      "100% (86400.0 of 86400.0) |##############| Elapsed Time: 0:05:33 Time:  0:05:33\n"
     ]
    },
    {
     "name": "stdout",
     "output_type": "stream",
     "text": [
      "Simulation saved as...  sim_weekly_back_alt_BD_20180619_01days.nc\n",
      "\n",
      "Simulations finished for this date!!\n",
      "\n",
      "simulation date... 2018 6 26\n",
      "Starting simulation for run day... 7\n"
     ]
    },
    {
     "name": "stderr",
     "output_type": "stream",
     "text": [
      "INFO: Compiled JITParticleAdvectionRK4 ==> /var/folders/1r/g9d70q7x59s6sd00xl3mmyfw0000gn/T/parcels-501/3415d881a61aa4e3106a97351b77a1a0.so\n",
      "100% (604800.0 of 604800.0) |############| Elapsed Time: 1:13:46 Time:  1:13:46\n"
     ]
    },
    {
     "name": "stdout",
     "output_type": "stream",
     "text": [
      "Simulation saved as...  sim_weekly_back_alt_BD_20180626_07days.nc\n",
      "Starting simulation for run day... 1\n"
     ]
    },
    {
     "name": "stderr",
     "output_type": "stream",
     "text": [
      "INFO: Compiled JITParticleAdvectionRK4 ==> /var/folders/1r/g9d70q7x59s6sd00xl3mmyfw0000gn/T/parcels-501/19bd34a2bea906185d20e408887a922f.so\n",
      "100% (86400.0 of 86400.0) |##############| Elapsed Time: 0:05:27 Time:  0:05:27\n"
     ]
    },
    {
     "name": "stdout",
     "output_type": "stream",
     "text": [
      "Simulation saved as...  sim_weekly_back_alt_BD_20180626_01days.nc\n",
      "\n",
      "Simulations finished for this date!!\n",
      "\n",
      "simulation date... 2018 7 3\n",
      "Starting simulation for run day... 7\n"
     ]
    },
    {
     "name": "stderr",
     "output_type": "stream",
     "text": [
      "INFO: Compiled JITParticleAdvectionRK4 ==> /var/folders/1r/g9d70q7x59s6sd00xl3mmyfw0000gn/T/parcels-501/d72939ee8b2e94fd6b99c56685959072.so\n",
      "100% (604800.0 of 604800.0) |############| Elapsed Time: 1:10:01 Time:  1:10:01\n"
     ]
    },
    {
     "name": "stdout",
     "output_type": "stream",
     "text": [
      "Simulation saved as...  sim_weekly_back_alt_BD_20180703_07days.nc\n",
      "Starting simulation for run day... 1\n"
     ]
    },
    {
     "name": "stderr",
     "output_type": "stream",
     "text": [
      "INFO: Compiled JITParticleAdvectionRK4 ==> /var/folders/1r/g9d70q7x59s6sd00xl3mmyfw0000gn/T/parcels-501/dc435d23a5529186ea8157a9179ada54.so\n",
      "100% (86400.0 of 86400.0) |##############| Elapsed Time: 0:05:26 Time:  0:05:26\n"
     ]
    },
    {
     "name": "stdout",
     "output_type": "stream",
     "text": [
      "Simulation saved as...  sim_weekly_back_alt_BD_20180703_01days.nc\n",
      "\n",
      "Simulations finished for this date!!\n",
      "\n",
      "simulation date... 2018 7 10\n",
      "Starting simulation for run day... 7\n"
     ]
    },
    {
     "name": "stderr",
     "output_type": "stream",
     "text": [
      "INFO: Compiled JITParticleAdvectionRK4 ==> /var/folders/1r/g9d70q7x59s6sd00xl3mmyfw0000gn/T/parcels-501/60354e33c05f1c65c148a6bbee8ee50d.so\n",
      "100% (604800.0 of 604800.0) |############| Elapsed Time: 1:14:40 Time:  1:14:40\n"
     ]
    },
    {
     "name": "stdout",
     "output_type": "stream",
     "text": [
      "Simulation saved as...  sim_weekly_back_alt_BD_20180710_07days.nc\n",
      "Starting simulation for run day... 1\n"
     ]
    },
    {
     "name": "stderr",
     "output_type": "stream",
     "text": [
      "INFO: Compiled JITParticleAdvectionRK4 ==> /var/folders/1r/g9d70q7x59s6sd00xl3mmyfw0000gn/T/parcels-501/14dde46d110cbb8431c22fc2a25708db.so\n",
      "100% (86400.0 of 86400.0) |##############| Elapsed Time: 0:05:27 Time:  0:05:27\n"
     ]
    },
    {
     "name": "stdout",
     "output_type": "stream",
     "text": [
      "Simulation saved as...  sim_weekly_back_alt_BD_20180710_01days.nc\n",
      "\n",
      "Simulations finished for this date!!\n",
      "\n",
      "simulation date... 2018 7 17\n",
      "Starting simulation for run day... 7\n"
     ]
    },
    {
     "name": "stderr",
     "output_type": "stream",
     "text": [
      "INFO: Compiled JITParticleAdvectionRK4 ==> /var/folders/1r/g9d70q7x59s6sd00xl3mmyfw0000gn/T/parcels-501/948b945ddbb13e176afac2fc54356c03.so\n",
      "100% (604800.0 of 604800.0) |############| Elapsed Time: 1:19:21 Time:  1:19:21\n"
     ]
    },
    {
     "name": "stdout",
     "output_type": "stream",
     "text": [
      "Simulation saved as...  sim_weekly_back_alt_BD_20180717_07days.nc\n",
      "Starting simulation for run day... 1\n"
     ]
    },
    {
     "name": "stderr",
     "output_type": "stream",
     "text": [
      "INFO: Compiled JITParticleAdvectionRK4 ==> /var/folders/1r/g9d70q7x59s6sd00xl3mmyfw0000gn/T/parcels-501/fa8df6f2e80dbaf996acb915e5b5d888.so\n",
      "100% (86400.0 of 86400.0) |##############| Elapsed Time: 0:05:29 Time:  0:05:29\n"
     ]
    },
    {
     "name": "stdout",
     "output_type": "stream",
     "text": [
      "Simulation saved as...  sim_weekly_back_alt_BD_20180717_01days.nc\n",
      "\n",
      "Simulations finished for this date!!\n",
      "\n",
      "simulation date... 2018 7 24\n",
      "Starting simulation for run day... 7\n"
     ]
    },
    {
     "name": "stderr",
     "output_type": "stream",
     "text": [
      "INFO: Compiled JITParticleAdvectionRK4 ==> /var/folders/1r/g9d70q7x59s6sd00xl3mmyfw0000gn/T/parcels-501/cb597551424d5689199237c2a8459072.so\n",
      "100% (604800.0 of 604800.0) |############| Elapsed Time: 1:10:03 Time:  1:10:03\n"
     ]
    },
    {
     "name": "stdout",
     "output_type": "stream",
     "text": [
      "Simulation saved as...  sim_weekly_back_alt_BD_20180724_07days.nc\n",
      "Starting simulation for run day... 1\n"
     ]
    },
    {
     "name": "stderr",
     "output_type": "stream",
     "text": [
      "INFO: Compiled JITParticleAdvectionRK4 ==> /var/folders/1r/g9d70q7x59s6sd00xl3mmyfw0000gn/T/parcels-501/922b8dee8053c88037006989bff58ac9.so\n",
      "100% (86400.0 of 86400.0) |##############| Elapsed Time: 0:05:25 Time:  0:05:25\n"
     ]
    },
    {
     "name": "stdout",
     "output_type": "stream",
     "text": [
      "Simulation saved as...  sim_weekly_back_alt_BD_20180724_01days.nc\n",
      "\n",
      "Simulations finished for this date!!\n",
      "\n",
      "simulation date... 2018 7 31\n",
      "Starting simulation for run day... 7\n"
     ]
    },
    {
     "name": "stderr",
     "output_type": "stream",
     "text": [
      "INFO: Compiled JITParticleAdvectionRK4 ==> /var/folders/1r/g9d70q7x59s6sd00xl3mmyfw0000gn/T/parcels-501/eb70409c17f172495e5f0e5e26c4aade.so\n",
      "100% (604800.0 of 604800.0) |############| Elapsed Time: 1:10:25 Time:  1:10:25\n"
     ]
    },
    {
     "name": "stdout",
     "output_type": "stream",
     "text": [
      "Simulation saved as...  sim_weekly_back_alt_BD_20180731_07days.nc\n",
      "Starting simulation for run day... 1\n"
     ]
    },
    {
     "name": "stderr",
     "output_type": "stream",
     "text": [
      "INFO: Compiled JITParticleAdvectionRK4 ==> /var/folders/1r/g9d70q7x59s6sd00xl3mmyfw0000gn/T/parcels-501/899b2ce163ac0c4d646cb85832fe3b42.so\n",
      "100% (86400.0 of 86400.0) |##############| Elapsed Time: 0:05:27 Time:  0:05:27\n"
     ]
    },
    {
     "name": "stdout",
     "output_type": "stream",
     "text": [
      "Simulation saved as...  sim_weekly_back_alt_BD_20180731_01days.nc\n",
      "\n",
      "Simulations finished for this date!!\n",
      "\n",
      "simulation date... 2018 8 7\n",
      "Starting simulation for run day... 7\n"
     ]
    },
    {
     "name": "stderr",
     "output_type": "stream",
     "text": [
      "INFO: Compiled JITParticleAdvectionRK4 ==> /var/folders/1r/g9d70q7x59s6sd00xl3mmyfw0000gn/T/parcels-501/ac598667a5a6d7e99518a8f63a8843c1.so\n",
      "100% (604800.0 of 604800.0) |############| Elapsed Time: 1:10:23 Time:  1:10:23\n"
     ]
    },
    {
     "name": "stdout",
     "output_type": "stream",
     "text": [
      "Simulation saved as...  sim_weekly_back_alt_BD_20180807_07days.nc\n",
      "Starting simulation for run day... 1\n"
     ]
    },
    {
     "name": "stderr",
     "output_type": "stream",
     "text": [
      "INFO: Compiled JITParticleAdvectionRK4 ==> /var/folders/1r/g9d70q7x59s6sd00xl3mmyfw0000gn/T/parcels-501/00feab7c5e3a5eebe5fa043f7fc938b3.so\n",
      "100% (86400.0 of 86400.0) |##############| Elapsed Time: 0:05:25 Time:  0:05:25\n"
     ]
    },
    {
     "name": "stdout",
     "output_type": "stream",
     "text": [
      "Simulation saved as...  sim_weekly_back_alt_BD_20180807_01days.nc\n",
      "\n",
      "Simulations finished for this date!!\n",
      "\n",
      "simulation date... 2018 8 14\n",
      "Starting simulation for run day... 7\n"
     ]
    },
    {
     "name": "stderr",
     "output_type": "stream",
     "text": [
      "INFO: Compiled JITParticleAdvectionRK4 ==> /var/folders/1r/g9d70q7x59s6sd00xl3mmyfw0000gn/T/parcels-501/4869a6c5fa642568ec9e1beeb06bdf73.so\n",
      "100% (604800.0 of 604800.0) |############| Elapsed Time: 1:10:18 Time:  1:10:18\n"
     ]
    },
    {
     "name": "stdout",
     "output_type": "stream",
     "text": [
      "Simulation saved as...  sim_weekly_back_alt_BD_20180814_07days.nc\n",
      "Starting simulation for run day... 1\n"
     ]
    },
    {
     "name": "stderr",
     "output_type": "stream",
     "text": [
      "INFO: Compiled JITParticleAdvectionRK4 ==> /var/folders/1r/g9d70q7x59s6sd00xl3mmyfw0000gn/T/parcels-501/ee8cfa58c3c114e4f49a34246b93fca1.so\n",
      "100% (86400.0 of 86400.0) |##############| Elapsed Time: 0:05:27 Time:  0:05:27\n"
     ]
    },
    {
     "name": "stdout",
     "output_type": "stream",
     "text": [
      "Simulation saved as...  sim_weekly_back_alt_BD_20180814_01days.nc\n",
      "\n",
      "Simulations finished for this date!!\n",
      "\n",
      "simulation date... 2018 8 21\n",
      "Starting simulation for run day... 7\n"
     ]
    },
    {
     "name": "stderr",
     "output_type": "stream",
     "text": [
      "INFO: Compiled JITParticleAdvectionRK4 ==> /var/folders/1r/g9d70q7x59s6sd00xl3mmyfw0000gn/T/parcels-501/ebf6b6b0ed2e19c67962772abb2f595f.so\n",
      "100% (604800.0 of 604800.0) |############| Elapsed Time: 1:10:44 Time:  1:10:44\n"
     ]
    },
    {
     "name": "stdout",
     "output_type": "stream",
     "text": [
      "Simulation saved as...  sim_weekly_back_alt_BD_20180821_07days.nc\n",
      "Starting simulation for run day... 1\n"
     ]
    },
    {
     "name": "stderr",
     "output_type": "stream",
     "text": [
      "INFO: Compiled JITParticleAdvectionRK4 ==> /var/folders/1r/g9d70q7x59s6sd00xl3mmyfw0000gn/T/parcels-501/3749b875c6e81ad6482c5e5f70be5593.so\n",
      "100% (86400.0 of 86400.0) |##############| Elapsed Time: 0:05:27 Time:  0:05:27\n"
     ]
    },
    {
     "name": "stdout",
     "output_type": "stream",
     "text": [
      "Simulation saved as...  sim_weekly_back_alt_BD_20180821_01days.nc\n",
      "\n",
      "Simulations finished for this date!!\n",
      "\n",
      "simulation date... 2018 8 28\n",
      "Starting simulation for run day... 7\n"
     ]
    },
    {
     "name": "stderr",
     "output_type": "stream",
     "text": [
      "INFO: Compiled JITParticleAdvectionRK4 ==> /var/folders/1r/g9d70q7x59s6sd00xl3mmyfw0000gn/T/parcels-501/b28e122d92370350812a75c43376221c.so\n",
      "100% (604800.0 of 604800.0) |############| Elapsed Time: 1:10:09 Time:  1:10:09\n"
     ]
    },
    {
     "name": "stdout",
     "output_type": "stream",
     "text": [
      "Simulation saved as...  sim_weekly_back_alt_BD_20180828_07days.nc\n",
      "Starting simulation for run day... 1\n"
     ]
    },
    {
     "name": "stderr",
     "output_type": "stream",
     "text": [
      "INFO: Compiled JITParticleAdvectionRK4 ==> /var/folders/1r/g9d70q7x59s6sd00xl3mmyfw0000gn/T/parcels-501/1f50a3c4b83004f6922309f8fc323417.so\n",
      "100% (86400.0 of 86400.0) |##############| Elapsed Time: 0:05:26 Time:  0:05:26\n"
     ]
    },
    {
     "name": "stdout",
     "output_type": "stream",
     "text": [
      "Simulation saved as...  sim_weekly_back_alt_BD_20180828_01days.nc\n",
      "\n",
      "Simulations finished for this date!!\n",
      "\n",
      "simulation date... 2018 9 4\n",
      "Starting simulation for run day... 7\n"
     ]
    },
    {
     "name": "stderr",
     "output_type": "stream",
     "text": [
      "INFO: Compiled JITParticleAdvectionRK4 ==> /var/folders/1r/g9d70q7x59s6sd00xl3mmyfw0000gn/T/parcels-501/590181e061567eddc67a079ea0995aba.so\n",
      "100% (604800.0 of 604800.0) |############| Elapsed Time: 1:10:15 Time:  1:10:15\n"
     ]
    },
    {
     "name": "stdout",
     "output_type": "stream",
     "text": [
      "Simulation saved as...  sim_weekly_back_alt_BD_20180904_07days.nc\n",
      "Starting simulation for run day... 1\n"
     ]
    },
    {
     "name": "stderr",
     "output_type": "stream",
     "text": [
      "INFO: Compiled JITParticleAdvectionRK4 ==> /var/folders/1r/g9d70q7x59s6sd00xl3mmyfw0000gn/T/parcels-501/f215e52538e3d350b72fef734b7c0794.so\n",
      "100% (86400.0 of 86400.0) |##############| Elapsed Time: 0:05:29 Time:  0:05:29\n"
     ]
    },
    {
     "name": "stdout",
     "output_type": "stream",
     "text": [
      "Simulation saved as...  sim_weekly_back_alt_BD_20180904_01days.nc\n",
      "\n",
      "Simulations finished for this date!!\n",
      "\n",
      "simulation date... 2018 9 11\n",
      "Starting simulation for run day... 7\n"
     ]
    },
    {
     "name": "stderr",
     "output_type": "stream",
     "text": [
      "INFO: Compiled JITParticleAdvectionRK4 ==> /var/folders/1r/g9d70q7x59s6sd00xl3mmyfw0000gn/T/parcels-501/79139da022c74239a1a2f25df09109bc.so\n",
      "100% (604800.0 of 604800.0) |############| Elapsed Time: 1:12:21 Time:  1:12:21\n"
     ]
    },
    {
     "name": "stdout",
     "output_type": "stream",
     "text": [
      "Simulation saved as...  sim_weekly_back_alt_BD_20180911_07days.nc\n",
      "Starting simulation for run day... 1\n"
     ]
    },
    {
     "name": "stderr",
     "output_type": "stream",
     "text": [
      "INFO: Compiled JITParticleAdvectionRK4 ==> /var/folders/1r/g9d70q7x59s6sd00xl3mmyfw0000gn/T/parcels-501/d132d60078b4002a2d1ffeb1a2a1bfbc.so\n",
      "100% (86400.0 of 86400.0) |##############| Elapsed Time: 0:05:26 Time:  0:05:26\n"
     ]
    },
    {
     "name": "stdout",
     "output_type": "stream",
     "text": [
      "Simulation saved as...  sim_weekly_back_alt_BD_20180911_01days.nc\n",
      "\n",
      "Simulations finished for this date!!\n",
      "\n",
      "simulation date... 2018 9 18\n",
      "Starting simulation for run day... 7\n"
     ]
    },
    {
     "name": "stderr",
     "output_type": "stream",
     "text": [
      "INFO: Compiled JITParticleAdvectionRK4 ==> /var/folders/1r/g9d70q7x59s6sd00xl3mmyfw0000gn/T/parcels-501/2f0fd1d66793f644678f0678d4bbcb32.so\n",
      "100% (604800.0 of 604800.0) |############| Elapsed Time: 1:14:28 Time:  1:14:28\n"
     ]
    },
    {
     "name": "stdout",
     "output_type": "stream",
     "text": [
      "Simulation saved as...  sim_weekly_back_alt_BD_20180918_07days.nc\n",
      "Starting simulation for run day... 1\n"
     ]
    },
    {
     "name": "stderr",
     "output_type": "stream",
     "text": [
      "INFO: Compiled JITParticleAdvectionRK4 ==> /var/folders/1r/g9d70q7x59s6sd00xl3mmyfw0000gn/T/parcels-501/d76c5a309e85df9f5f469cd0ca8224c4.so\n",
      "100% (86400.0 of 86400.0) |##############| Elapsed Time: 0:05:49 Time:  0:05:49\n"
     ]
    },
    {
     "name": "stdout",
     "output_type": "stream",
     "text": [
      "Simulation saved as...  sim_weekly_back_alt_BD_20180918_01days.nc\n",
      "\n",
      "Simulations finished for this date!!\n",
      "\n",
      "simulation date... 2018 9 25\n",
      "Starting simulation for run day... 7\n"
     ]
    },
    {
     "name": "stderr",
     "output_type": "stream",
     "text": [
      "INFO: Compiled JITParticleAdvectionRK4 ==> /var/folders/1r/g9d70q7x59s6sd00xl3mmyfw0000gn/T/parcels-501/016414b5d2fa4e8c3727690f0eed0312.so\n",
      "100% (604800.0 of 604800.0) |############| Elapsed Time: 1:11:36 Time:  1:11:36\n"
     ]
    },
    {
     "name": "stdout",
     "output_type": "stream",
     "text": [
      "Simulation saved as...  sim_weekly_back_alt_BD_20180925_07days.nc\n",
      "Starting simulation for run day... 1\n"
     ]
    },
    {
     "name": "stderr",
     "output_type": "stream",
     "text": [
      "INFO: Compiled JITParticleAdvectionRK4 ==> /var/folders/1r/g9d70q7x59s6sd00xl3mmyfw0000gn/T/parcels-501/3f66e6d638cd0acafb8153f0c42ab4c6.so\n",
      "100% (86400.0 of 86400.0) |##############| Elapsed Time: 0:05:29 Time:  0:05:29\n"
     ]
    },
    {
     "name": "stdout",
     "output_type": "stream",
     "text": [
      "Simulation saved as...  sim_weekly_back_alt_BD_20180925_01days.nc\n",
      "\n",
      "Simulations finished for this date!!\n",
      "\n",
      "simulation date... 2018 10 2\n",
      "Starting simulation for run day... 7\n"
     ]
    },
    {
     "name": "stderr",
     "output_type": "stream",
     "text": [
      "INFO: Compiled JITParticleAdvectionRK4 ==> /var/folders/1r/g9d70q7x59s6sd00xl3mmyfw0000gn/T/parcels-501/2f15ba77c96d40beb134d7331d41e448.so\n",
      "100% (604800.0 of 604800.0) |############| Elapsed Time: 1:10:18 Time:  1:10:18\n"
     ]
    },
    {
     "name": "stdout",
     "output_type": "stream",
     "text": [
      "Simulation saved as...  sim_weekly_back_alt_BD_20181002_07days.nc\n",
      "Starting simulation for run day... 1\n"
     ]
    },
    {
     "name": "stderr",
     "output_type": "stream",
     "text": [
      "INFO: Compiled JITParticleAdvectionRK4 ==> /var/folders/1r/g9d70q7x59s6sd00xl3mmyfw0000gn/T/parcels-501/9ced1cb02d2d0fc6224f0fbd75e9f6d6.so\n",
      "100% (86400.0 of 86400.0) |##############| Elapsed Time: 0:05:27 Time:  0:05:27\n"
     ]
    },
    {
     "name": "stdout",
     "output_type": "stream",
     "text": [
      "Simulation saved as...  sim_weekly_back_alt_BD_20181002_01days.nc\n",
      "\n",
      "Simulations finished for this date!!\n",
      "\n",
      "simulation date... 2018 10 9\n",
      "Starting simulation for run day... 7\n"
     ]
    },
    {
     "name": "stderr",
     "output_type": "stream",
     "text": [
      "INFO: Compiled JITParticleAdvectionRK4 ==> /var/folders/1r/g9d70q7x59s6sd00xl3mmyfw0000gn/T/parcels-501/8e8b2ff42941e074125aece84b0b4792.so\n",
      "100% (604800.0 of 604800.0) |############| Elapsed Time: 1:10:12 Time:  1:10:12\n"
     ]
    },
    {
     "name": "stdout",
     "output_type": "stream",
     "text": [
      "Simulation saved as...  sim_weekly_back_alt_BD_20181009_07days.nc\n",
      "Starting simulation for run day... 1\n"
     ]
    },
    {
     "name": "stderr",
     "output_type": "stream",
     "text": [
      "INFO: Compiled JITParticleAdvectionRK4 ==> /var/folders/1r/g9d70q7x59s6sd00xl3mmyfw0000gn/T/parcels-501/8f4bb2c6d777ecb41a5fad7ce264a850.so\n",
      "100% (86400.0 of 86400.0) |##############| Elapsed Time: 0:05:24 Time:  0:05:24\n"
     ]
    },
    {
     "name": "stdout",
     "output_type": "stream",
     "text": [
      "Simulation saved as...  sim_weekly_back_alt_BD_20181009_01days.nc\n",
      "\n",
      "Simulations finished for this date!!\n",
      "\n",
      "simulation date... 2018 10 16\n",
      "Starting simulation for run day... 7\n"
     ]
    },
    {
     "name": "stderr",
     "output_type": "stream",
     "text": [
      "INFO: Compiled JITParticleAdvectionRK4 ==> /var/folders/1r/g9d70q7x59s6sd00xl3mmyfw0000gn/T/parcels-501/1257165adb2a299c52e0cf6499b8ee85.so\n",
      "100% (604800.0 of 604800.0) |############| Elapsed Time: 1:10:26 Time:  1:10:26\n"
     ]
    },
    {
     "name": "stdout",
     "output_type": "stream",
     "text": [
      "Simulation saved as...  sim_weekly_back_alt_BD_20181016_07days.nc\n",
      "Starting simulation for run day... 1\n"
     ]
    },
    {
     "name": "stderr",
     "output_type": "stream",
     "text": [
      "INFO: Compiled JITParticleAdvectionRK4 ==> /var/folders/1r/g9d70q7x59s6sd00xl3mmyfw0000gn/T/parcels-501/7a2d1bec669000fe0fcb5eaf417d5f38.so\n",
      "100% (86400.0 of 86400.0) |##############| Elapsed Time: 0:05:25 Time:  0:05:25\n"
     ]
    },
    {
     "name": "stdout",
     "output_type": "stream",
     "text": [
      "Simulation saved as...  sim_weekly_back_alt_BD_20181016_01days.nc\n",
      "\n",
      "Simulations finished for this date!!\n",
      "\n",
      "simulation date... 2018 10 23\n",
      "Starting simulation for run day... 7\n"
     ]
    },
    {
     "name": "stderr",
     "output_type": "stream",
     "text": [
      "INFO: Compiled JITParticleAdvectionRK4 ==> /var/folders/1r/g9d70q7x59s6sd00xl3mmyfw0000gn/T/parcels-501/5e1f4baa5da26f3f475145cae3e3a23c.so\n",
      "100% (604800.0 of 604800.0) |############| Elapsed Time: 1:10:03 Time:  1:10:03\n"
     ]
    },
    {
     "name": "stdout",
     "output_type": "stream",
     "text": [
      "Simulation saved as...  sim_weekly_back_alt_BD_20181023_07days.nc\n",
      "Starting simulation for run day... 1\n"
     ]
    },
    {
     "name": "stderr",
     "output_type": "stream",
     "text": [
      "INFO: Compiled JITParticleAdvectionRK4 ==> /var/folders/1r/g9d70q7x59s6sd00xl3mmyfw0000gn/T/parcels-501/6e96c007331edfbb4d20bd3a7801dde5.so\n",
      "100% (86400.0 of 86400.0) |##############| Elapsed Time: 0:05:25 Time:  0:05:25\n"
     ]
    },
    {
     "name": "stdout",
     "output_type": "stream",
     "text": [
      "Simulation saved as...  sim_weekly_back_alt_BD_20181023_01days.nc\n",
      "\n",
      "Simulations finished for this date!!\n",
      "\n",
      "simulation date... 2018 10 30\n",
      "Starting simulation for run day... 7\n"
     ]
    },
    {
     "name": "stderr",
     "output_type": "stream",
     "text": [
      "INFO: Compiled JITParticleAdvectionRK4 ==> /var/folders/1r/g9d70q7x59s6sd00xl3mmyfw0000gn/T/parcels-501/d4fa78d3628aca117d62e066bdff64fc.so\n",
      "100% (604800.0 of 604800.0) |############| Elapsed Time: 1:10:16 Time:  1:10:16\n"
     ]
    },
    {
     "name": "stdout",
     "output_type": "stream",
     "text": [
      "Simulation saved as...  sim_weekly_back_alt_BD_20181030_07days.nc\n",
      "Starting simulation for run day... 1\n"
     ]
    },
    {
     "name": "stderr",
     "output_type": "stream",
     "text": [
      "INFO: Compiled JITParticleAdvectionRK4 ==> /var/folders/1r/g9d70q7x59s6sd00xl3mmyfw0000gn/T/parcels-501/7d029b610d601fca40bee5bd09b1646b.so\n",
      "100% (86400.0 of 86400.0) |##############| Elapsed Time: 0:05:26 Time:  0:05:26\n"
     ]
    },
    {
     "name": "stdout",
     "output_type": "stream",
     "text": [
      "Simulation saved as...  sim_weekly_back_alt_BD_20181030_01days.nc\n",
      "\n",
      "Simulations finished for this date!!\n",
      "\n",
      "simulation date... 2018 11 6\n",
      "Starting simulation for run day... 7\n"
     ]
    },
    {
     "name": "stderr",
     "output_type": "stream",
     "text": [
      "INFO: Compiled JITParticleAdvectionRK4 ==> /var/folders/1r/g9d70q7x59s6sd00xl3mmyfw0000gn/T/parcels-501/5998bee402e120a8e1208c187382aa4f.so\n",
      "100% (604800.0 of 604800.0) |############| Elapsed Time: 1:10:15 Time:  1:10:15\n"
     ]
    },
    {
     "name": "stdout",
     "output_type": "stream",
     "text": [
      "Simulation saved as...  sim_weekly_back_alt_BD_20181106_07days.nc\n",
      "Starting simulation for run day... 1\n"
     ]
    },
    {
     "name": "stderr",
     "output_type": "stream",
     "text": [
      "INFO: Compiled JITParticleAdvectionRK4 ==> /var/folders/1r/g9d70q7x59s6sd00xl3mmyfw0000gn/T/parcels-501/96b40cbea11dd3df64cdb4902591ca98.so\n",
      "100% (86400.0 of 86400.0) |##############| Elapsed Time: 0:05:25 Time:  0:05:25\n"
     ]
    },
    {
     "name": "stdout",
     "output_type": "stream",
     "text": [
      "Simulation saved as...  sim_weekly_back_alt_BD_20181106_01days.nc\n",
      "\n",
      "Simulations finished for this date!!\n",
      "\n",
      "simulation date... 2018 11 13\n",
      "Starting simulation for run day... 7\n"
     ]
    },
    {
     "name": "stderr",
     "output_type": "stream",
     "text": [
      "INFO: Compiled JITParticleAdvectionRK4 ==> /var/folders/1r/g9d70q7x59s6sd00xl3mmyfw0000gn/T/parcels-501/e37926a416bb1e11108964022ec49bf1.so\n",
      "100% (604800.0 of 604800.0) |############| Elapsed Time: 1:10:13 Time:  1:10:13\n"
     ]
    },
    {
     "name": "stdout",
     "output_type": "stream",
     "text": [
      "Simulation saved as...  sim_weekly_back_alt_BD_20181113_07days.nc\n",
      "Starting simulation for run day... 1\n"
     ]
    },
    {
     "name": "stderr",
     "output_type": "stream",
     "text": [
      "INFO: Compiled JITParticleAdvectionRK4 ==> /var/folders/1r/g9d70q7x59s6sd00xl3mmyfw0000gn/T/parcels-501/a4f21692123d764f6e5f830bac95e00c.so\n",
      "100% (86400.0 of 86400.0) |##############| Elapsed Time: 0:05:25 Time:  0:05:25\n"
     ]
    },
    {
     "name": "stdout",
     "output_type": "stream",
     "text": [
      "Simulation saved as...  sim_weekly_back_alt_BD_20181113_01days.nc\n",
      "\n",
      "Simulations finished for this date!!\n",
      "\n",
      "simulation date... 2018 11 20\n",
      "Starting simulation for run day... 7\n"
     ]
    },
    {
     "name": "stderr",
     "output_type": "stream",
     "text": [
      "INFO: Compiled JITParticleAdvectionRK4 ==> /var/folders/1r/g9d70q7x59s6sd00xl3mmyfw0000gn/T/parcels-501/78d72f9c4d9736fbe4cde86f31797546.so\n",
      "100% (604800.0 of 604800.0) |############| Elapsed Time: 1:10:13 Time:  1:10:13\n"
     ]
    },
    {
     "name": "stdout",
     "output_type": "stream",
     "text": [
      "Simulation saved as...  sim_weekly_back_alt_BD_20181120_07days.nc\n",
      "Starting simulation for run day... 1\n"
     ]
    },
    {
     "name": "stderr",
     "output_type": "stream",
     "text": [
      "INFO: Compiled JITParticleAdvectionRK4 ==> /var/folders/1r/g9d70q7x59s6sd00xl3mmyfw0000gn/T/parcels-501/dada4dd207528904377648ededf0ecdc.so\n",
      "100% (86400.0 of 86400.0) |##############| Elapsed Time: 0:05:26 Time:  0:05:26\n"
     ]
    },
    {
     "name": "stdout",
     "output_type": "stream",
     "text": [
      "Simulation saved as...  sim_weekly_back_alt_BD_20181120_01days.nc\n",
      "\n",
      "Simulations finished for this date!!\n",
      "\n",
      "simulation date... 2018 11 27\n",
      "Starting simulation for run day... 7\n"
     ]
    },
    {
     "name": "stderr",
     "output_type": "stream",
     "text": [
      "INFO: Compiled JITParticleAdvectionRK4 ==> /var/folders/1r/g9d70q7x59s6sd00xl3mmyfw0000gn/T/parcels-501/b88d40e4877a0cb0dab288695637cea7.so\n",
      "100% (604800.0 of 604800.0) |############| Elapsed Time: 1:10:10 Time:  1:10:10\n"
     ]
    },
    {
     "name": "stdout",
     "output_type": "stream",
     "text": [
      "Simulation saved as...  sim_weekly_back_alt_BD_20181127_07days.nc\n",
      "Starting simulation for run day... 1\n"
     ]
    },
    {
     "name": "stderr",
     "output_type": "stream",
     "text": [
      "INFO: Compiled JITParticleAdvectionRK4 ==> /var/folders/1r/g9d70q7x59s6sd00xl3mmyfw0000gn/T/parcels-501/6a0e974d717eb3c52b8634e043b67364.so\n",
      "100% (86400.0 of 86400.0) |##############| Elapsed Time: 0:05:26 Time:  0:05:26\n"
     ]
    },
    {
     "name": "stdout",
     "output_type": "stream",
     "text": [
      "Simulation saved as...  sim_weekly_back_alt_BD_20181127_01days.nc\n",
      "\n",
      "Simulations finished for this date!!\n",
      "\n",
      "simulation date... 2018 12 4\n",
      "Starting simulation for run day... 7\n"
     ]
    },
    {
     "name": "stderr",
     "output_type": "stream",
     "text": [
      "INFO: Compiled JITParticleAdvectionRK4 ==> /var/folders/1r/g9d70q7x59s6sd00xl3mmyfw0000gn/T/parcels-501/b7fd335b6707a56493a6d80a39b4f28c.so\n",
      "100% (604800.0 of 604800.0) |############| Elapsed Time: 1:10:24 Time:  1:10:24\n"
     ]
    },
    {
     "name": "stdout",
     "output_type": "stream",
     "text": [
      "Simulation saved as...  sim_weekly_back_alt_BD_20181204_07days.nc\n",
      "Starting simulation for run day... 1\n"
     ]
    },
    {
     "name": "stderr",
     "output_type": "stream",
     "text": [
      "INFO: Compiled JITParticleAdvectionRK4 ==> /var/folders/1r/g9d70q7x59s6sd00xl3mmyfw0000gn/T/parcels-501/f608f6403d793d9d23266136cfeb25ed.so\n",
      "100% (86400.0 of 86400.0) |##############| Elapsed Time: 0:05:26 Time:  0:05:26\n"
     ]
    },
    {
     "name": "stdout",
     "output_type": "stream",
     "text": [
      "Simulation saved as...  sim_weekly_back_alt_BD_20181204_01days.nc\n",
      "\n",
      "Simulations finished for this date!!\n",
      "\n",
      "simulation date... 2018 12 11\n",
      "Starting simulation for run day... 7\n"
     ]
    },
    {
     "name": "stderr",
     "output_type": "stream",
     "text": [
      "INFO: Compiled JITParticleAdvectionRK4 ==> /var/folders/1r/g9d70q7x59s6sd00xl3mmyfw0000gn/T/parcels-501/1c5572de35d610717c8b0b8986cccfb0.so\n",
      "100% (604800.0 of 604800.0) |############| Elapsed Time: 1:10:28 Time:  1:10:28\n"
     ]
    },
    {
     "name": "stdout",
     "output_type": "stream",
     "text": [
      "Simulation saved as...  sim_weekly_back_alt_BD_20181211_07days.nc\n",
      "Starting simulation for run day... 1\n"
     ]
    },
    {
     "name": "stderr",
     "output_type": "stream",
     "text": [
      "INFO: Compiled JITParticleAdvectionRK4 ==> /var/folders/1r/g9d70q7x59s6sd00xl3mmyfw0000gn/T/parcels-501/ad192f53f5a6701f1c299a44d39b3102.so\n",
      "100% (86400.0 of 86400.0) |##############| Elapsed Time: 0:05:25 Time:  0:05:25\n"
     ]
    },
    {
     "name": "stdout",
     "output_type": "stream",
     "text": [
      "Simulation saved as...  sim_weekly_back_alt_BD_20181211_01days.nc\n",
      "\n",
      "Simulations finished for this date!!\n",
      "\n",
      "simulation date... 2018 12 18\n",
      "Starting simulation for run day... 7\n"
     ]
    },
    {
     "name": "stderr",
     "output_type": "stream",
     "text": [
      "INFO: Compiled JITParticleAdvectionRK4 ==> /var/folders/1r/g9d70q7x59s6sd00xl3mmyfw0000gn/T/parcels-501/18dc019b162c550033aa70a5f3391874.so\n",
      "100% (604800.0 of 604800.0) |############| Elapsed Time: 1:10:39 Time:  1:10:39\n"
     ]
    },
    {
     "name": "stdout",
     "output_type": "stream",
     "text": [
      "Simulation saved as...  sim_weekly_back_alt_BD_20181218_07days.nc\n",
      "Starting simulation for run day... 1\n"
     ]
    },
    {
     "name": "stderr",
     "output_type": "stream",
     "text": [
      "INFO: Compiled JITParticleAdvectionRK4 ==> /var/folders/1r/g9d70q7x59s6sd00xl3mmyfw0000gn/T/parcels-501/183ed3601a2b6b1e4f3fc7687974a4a2.so\n",
      "100% (86400.0 of 86400.0) |##############| Elapsed Time: 0:05:26 Time:  0:05:26\n"
     ]
    },
    {
     "name": "stdout",
     "output_type": "stream",
     "text": [
      "Simulation saved as...  sim_weekly_back_alt_BD_20181218_01days.nc\n",
      "\n",
      "Simulations finished for this date!!\n",
      "\n",
      "simulation date... 2018 12 25\n",
      "Starting simulation for run day... 7\n"
     ]
    },
    {
     "name": "stderr",
     "output_type": "stream",
     "text": [
      "INFO: Compiled JITParticleAdvectionRK4 ==> /var/folders/1r/g9d70q7x59s6sd00xl3mmyfw0000gn/T/parcels-501/1c8751fd06e835f982c6e1e48166f3e2.so\n",
      "100% (604800.0 of 604800.0) |############| Elapsed Time: 1:10:17 Time:  1:10:17\n"
     ]
    },
    {
     "name": "stdout",
     "output_type": "stream",
     "text": [
      "Simulation saved as...  sim_weekly_back_alt_BD_20181225_07days.nc\n",
      "Starting simulation for run day... 1\n"
     ]
    },
    {
     "name": "stderr",
     "output_type": "stream",
     "text": [
      "INFO: Compiled JITParticleAdvectionRK4 ==> /var/folders/1r/g9d70q7x59s6sd00xl3mmyfw0000gn/T/parcels-501/c205ce76b408853cee812e6fd4fa2dc1.so\n",
      "100% (86400.0 of 86400.0) |##############| Elapsed Time: 0:05:26 Time:  0:05:26\n"
     ]
    },
    {
     "name": "stdout",
     "output_type": "stream",
     "text": [
      "Simulation saved as...  sim_weekly_back_alt_BD_20181225_01days.nc\n",
      "\n",
      "Simulations finished for this date!!\n",
      "\n",
      "simulation date... 2019 1 1\n",
      "Starting simulation for run day... 7\n"
     ]
    },
    {
     "name": "stderr",
     "output_type": "stream",
     "text": [
      "INFO: Compiled JITParticleAdvectionRK4 ==> /var/folders/1r/g9d70q7x59s6sd00xl3mmyfw0000gn/T/parcels-501/ee26b631ef9ef3751e6d6346b7bbe927.so\n",
      "100% (604800.0 of 604800.0) |############| Elapsed Time: 1:10:25 Time:  1:10:25\n"
     ]
    },
    {
     "name": "stdout",
     "output_type": "stream",
     "text": [
      "Simulation saved as...  sim_weekly_back_alt_BD_20190101_07days.nc\n",
      "Starting simulation for run day... 1\n"
     ]
    },
    {
     "name": "stderr",
     "output_type": "stream",
     "text": [
      "INFO: Compiled JITParticleAdvectionRK4 ==> /var/folders/1r/g9d70q7x59s6sd00xl3mmyfw0000gn/T/parcels-501/3f957e4e73f478506487020e4112b383.so\n",
      "100% (86400.0 of 86400.0) |##############| Elapsed Time: 0:05:26 Time:  0:05:26\n"
     ]
    },
    {
     "name": "stdout",
     "output_type": "stream",
     "text": [
      "Simulation saved as...  sim_weekly_back_alt_BD_20190101_01days.nc\n",
      "\n",
      "Simulations finished for this date!!\n",
      "\n",
      "simulation date... 2019 1 8\n",
      "Starting simulation for run day... 7\n"
     ]
    },
    {
     "name": "stderr",
     "output_type": "stream",
     "text": [
      "INFO: Compiled JITParticleAdvectionRK4 ==> /var/folders/1r/g9d70q7x59s6sd00xl3mmyfw0000gn/T/parcels-501/b858dc698c02277b7f3e71de629b4efd.so\n",
      "100% (604800.0 of 604800.0) |############| Elapsed Time: 1:14:52 Time:  1:14:52\n"
     ]
    },
    {
     "name": "stdout",
     "output_type": "stream",
     "text": [
      "Simulation saved as...  sim_weekly_back_alt_BD_20190108_07days.nc\n",
      "Starting simulation for run day... 1\n"
     ]
    },
    {
     "name": "stderr",
     "output_type": "stream",
     "text": [
      "INFO: Compiled JITParticleAdvectionRK4 ==> /var/folders/1r/g9d70q7x59s6sd00xl3mmyfw0000gn/T/parcels-501/de180267699e42aa0e7c75ecc8c8647a.so\n",
      "100% (86400.0 of 86400.0) |##############| Elapsed Time: 0:06:16 Time:  0:06:16\n"
     ]
    },
    {
     "name": "stdout",
     "output_type": "stream",
     "text": [
      "Simulation saved as...  sim_weekly_back_alt_BD_20190108_01days.nc\n",
      "\n",
      "Simulations finished for this date!!\n",
      "\n",
      "simulation date... 2019 1 15\n",
      "Starting simulation for run day... 7\n"
     ]
    },
    {
     "name": "stderr",
     "output_type": "stream",
     "text": [
      "INFO: Compiled JITParticleAdvectionRK4 ==> /var/folders/1r/g9d70q7x59s6sd00xl3mmyfw0000gn/T/parcels-501/a3d4445c1a7370c854e89264ca057351.so\n",
      "100% (604800.0 of 604800.0) |############| Elapsed Time: 1:12:48 Time:  1:12:48\n"
     ]
    },
    {
     "name": "stdout",
     "output_type": "stream",
     "text": [
      "Simulation saved as...  sim_weekly_back_alt_BD_20190115_07days.nc\n",
      "Starting simulation for run day... 1\n"
     ]
    },
    {
     "name": "stderr",
     "output_type": "stream",
     "text": [
      "INFO: Compiled JITParticleAdvectionRK4 ==> /var/folders/1r/g9d70q7x59s6sd00xl3mmyfw0000gn/T/parcels-501/99d33d92a87e0d00244a050736a4681b.so\n",
      "100% (86400.0 of 86400.0) |##############| Elapsed Time: 0:05:26 Time:  0:05:26\n"
     ]
    },
    {
     "name": "stdout",
     "output_type": "stream",
     "text": [
      "Simulation saved as...  sim_weekly_back_alt_BD_20190115_01days.nc\n",
      "\n",
      "Simulations finished for this date!!\n",
      "\n",
      "simulation date... 2019 1 22\n",
      "Starting simulation for run day... 7\n"
     ]
    },
    {
     "name": "stderr",
     "output_type": "stream",
     "text": [
      "INFO: Compiled JITParticleAdvectionRK4 ==> /var/folders/1r/g9d70q7x59s6sd00xl3mmyfw0000gn/T/parcels-501/d91846c2100a3abd8ab24dc86db088df.so\n",
      "100% (604800.0 of 604800.0) |############| Elapsed Time: 1:10:05 Time:  1:10:05\n"
     ]
    },
    {
     "name": "stdout",
     "output_type": "stream",
     "text": [
      "Simulation saved as...  sim_weekly_back_alt_BD_20190122_07days.nc\n",
      "Starting simulation for run day... 1\n"
     ]
    },
    {
     "name": "stderr",
     "output_type": "stream",
     "text": [
      "INFO: Compiled JITParticleAdvectionRK4 ==> /var/folders/1r/g9d70q7x59s6sd00xl3mmyfw0000gn/T/parcels-501/1f169b08f7d5851d09b71f417873fab5.so\n",
      "100% (86400.0 of 86400.0) |##############| Elapsed Time: 0:05:26 Time:  0:05:26\n"
     ]
    },
    {
     "name": "stdout",
     "output_type": "stream",
     "text": [
      "Simulation saved as...  sim_weekly_back_alt_BD_20190122_01days.nc\n",
      "\n",
      "Simulations finished for this date!!\n",
      "\n",
      "simulation date... 2019 1 29\n",
      "Starting simulation for run day... 7\n"
     ]
    },
    {
     "name": "stderr",
     "output_type": "stream",
     "text": [
      "INFO: Compiled JITParticleAdvectionRK4 ==> /var/folders/1r/g9d70q7x59s6sd00xl3mmyfw0000gn/T/parcels-501/f03a883a258b842d707be08c4d7a036d.so\n",
      "100% (604800.0 of 604800.0) |############| Elapsed Time: 2:10:10 Time:  2:10:10\n"
     ]
    },
    {
     "name": "stdout",
     "output_type": "stream",
     "text": [
      "Simulation saved as...  sim_weekly_back_alt_BD_20190129_07days.nc\n",
      "Starting simulation for run day... 1\n"
     ]
    },
    {
     "name": "stderr",
     "output_type": "stream",
     "text": [
      "INFO: Compiled JITParticleAdvectionRK4 ==> /var/folders/1r/g9d70q7x59s6sd00xl3mmyfw0000gn/T/parcels-501/880567b099ee2e7cfbf2e9fd5c40493e.so\n",
      "100% (86400.0 of 86400.0) |##############| Elapsed Time: 0:05:26 Time:  0:05:26\n"
     ]
    },
    {
     "name": "stdout",
     "output_type": "stream",
     "text": [
      "Simulation saved as...  sim_weekly_back_alt_BD_20190129_01days.nc\n",
      "\n",
      "Simulations finished for this date!!\n",
      "\n",
      "simulation date... 2019 2 5\n",
      "Starting simulation for run day... 7\n"
     ]
    },
    {
     "name": "stderr",
     "output_type": "stream",
     "text": [
      "INFO: Compiled JITParticleAdvectionRK4 ==> /var/folders/1r/g9d70q7x59s6sd00xl3mmyfw0000gn/T/parcels-501/99d7af466f1a704cd3bf53889dc4e8d6.so\n",
      "100% (604800.0 of 604800.0) |############| Elapsed Time: 1:10:03 Time:  1:10:03\n"
     ]
    },
    {
     "name": "stdout",
     "output_type": "stream",
     "text": [
      "Simulation saved as...  sim_weekly_back_alt_BD_20190205_07days.nc\n",
      "Starting simulation for run day... 1\n"
     ]
    },
    {
     "name": "stderr",
     "output_type": "stream",
     "text": [
      "INFO: Compiled JITParticleAdvectionRK4 ==> /var/folders/1r/g9d70q7x59s6sd00xl3mmyfw0000gn/T/parcels-501/d5d757b56c8cc6162a13d1c1889882e3.so\n",
      "100% (86400.0 of 86400.0) |##############| Elapsed Time: 0:05:26 Time:  0:05:26\n"
     ]
    },
    {
     "name": "stdout",
     "output_type": "stream",
     "text": [
      "Simulation saved as...  sim_weekly_back_alt_BD_20190205_01days.nc\n",
      "\n",
      "Simulations finished for this date!!\n",
      "\n",
      "simulation date... 2019 2 12\n",
      "Starting simulation for run day... 7\n"
     ]
    },
    {
     "name": "stderr",
     "output_type": "stream",
     "text": [
      "INFO: Compiled JITParticleAdvectionRK4 ==> /var/folders/1r/g9d70q7x59s6sd00xl3mmyfw0000gn/T/parcels-501/d74afa9b167aab27b52be14bdf8cfe3b.so\n",
      "100% (604800.0 of 604800.0) |############| Elapsed Time: 1:09:45 Time:  1:09:45\n"
     ]
    },
    {
     "name": "stdout",
     "output_type": "stream",
     "text": [
      "Simulation saved as...  sim_weekly_back_alt_BD_20190212_07days.nc\n",
      "Starting simulation for run day... 1\n"
     ]
    },
    {
     "name": "stderr",
     "output_type": "stream",
     "text": [
      "INFO: Compiled JITParticleAdvectionRK4 ==> /var/folders/1r/g9d70q7x59s6sd00xl3mmyfw0000gn/T/parcels-501/f526a0ec5324e3fdb729e16051c98158.so\n",
      "100% (86400.0 of 86400.0) |##############| Elapsed Time: 0:05:27 Time:  0:05:27\n"
     ]
    },
    {
     "name": "stdout",
     "output_type": "stream",
     "text": [
      "Simulation saved as...  sim_weekly_back_alt_BD_20190212_01days.nc\n",
      "\n",
      "Simulations finished for this date!!\n",
      "\n",
      "simulation date... 2019 2 19\n",
      "Starting simulation for run day... 7\n"
     ]
    },
    {
     "name": "stderr",
     "output_type": "stream",
     "text": [
      "INFO: Compiled JITParticleAdvectionRK4 ==> /var/folders/1r/g9d70q7x59s6sd00xl3mmyfw0000gn/T/parcels-501/f2d939bc5fb249cf7515a097d38f9995.so\n",
      "100% (604800.0 of 604800.0) |############| Elapsed Time: 1:10:32 Time:  1:10:32\n"
     ]
    },
    {
     "name": "stdout",
     "output_type": "stream",
     "text": [
      "Simulation saved as...  sim_weekly_back_alt_BD_20190219_07days.nc\n",
      "Starting simulation for run day... 1\n"
     ]
    },
    {
     "name": "stderr",
     "output_type": "stream",
     "text": [
      "INFO: Compiled JITParticleAdvectionRK4 ==> /var/folders/1r/g9d70q7x59s6sd00xl3mmyfw0000gn/T/parcels-501/20b7700ff5744c8a8454c88bc7c6af34.so\n",
      "100% (86400.0 of 86400.0) |##############| Elapsed Time: 0:05:27 Time:  0:05:27\n"
     ]
    },
    {
     "name": "stdout",
     "output_type": "stream",
     "text": [
      "Simulation saved as...  sim_weekly_back_alt_BD_20190219_01days.nc\n",
      "\n",
      "Simulations finished for this date!!\n",
      "\n",
      "simulation date... 2019 2 26\n",
      "Starting simulation for run day... 7\n"
     ]
    },
    {
     "name": "stderr",
     "output_type": "stream",
     "text": [
      "INFO: Compiled JITParticleAdvectionRK4 ==> /var/folders/1r/g9d70q7x59s6sd00xl3mmyfw0000gn/T/parcels-501/f70922900463fb01898a3852427e6bfd.so\n",
      "100% (604800.0 of 604800.0) |############| Elapsed Time: 1:14:13 Time:  1:14:13\n"
     ]
    },
    {
     "name": "stdout",
     "output_type": "stream",
     "text": [
      "Simulation saved as...  sim_weekly_back_alt_BD_20190226_07days.nc\n",
      "Starting simulation for run day... 1\n"
     ]
    },
    {
     "name": "stderr",
     "output_type": "stream",
     "text": [
      "INFO: Compiled JITParticleAdvectionRK4 ==> /var/folders/1r/g9d70q7x59s6sd00xl3mmyfw0000gn/T/parcels-501/dc097d357c88a77d28247bd4b02e2927.so\n",
      "100% (86400.0 of 86400.0) |##############| Elapsed Time: 0:06:16 Time:  0:06:16\n"
     ]
    },
    {
     "name": "stdout",
     "output_type": "stream",
     "text": [
      "Simulation saved as...  sim_weekly_back_alt_BD_20190226_01days.nc\n",
      "\n",
      "Simulations finished for this date!!\n",
      "\n",
      "simulation date... 2019 3 5\n",
      "Starting simulation for run day... 7\n"
     ]
    },
    {
     "name": "stderr",
     "output_type": "stream",
     "text": [
      "INFO: Compiled JITParticleAdvectionRK4 ==> /var/folders/1r/g9d70q7x59s6sd00xl3mmyfw0000gn/T/parcels-501/d331edbf098f405d27086ad665ba15d3.so\n",
      "100% (604800.0 of 604800.0) |############| Elapsed Time: 1:22:10 Time:  1:22:10\n"
     ]
    },
    {
     "name": "stdout",
     "output_type": "stream",
     "text": [
      "Simulation saved as...  sim_weekly_back_alt_BD_20190305_07days.nc\n",
      "Starting simulation for run day... 1\n"
     ]
    },
    {
     "name": "stderr",
     "output_type": "stream",
     "text": [
      "INFO: Compiled JITParticleAdvectionRK4 ==> /var/folders/1r/g9d70q7x59s6sd00xl3mmyfw0000gn/T/parcels-501/ca366d61a5e393a1cb328aa8f8ef5606.so\n",
      "100% (86400.0 of 86400.0) |##############| Elapsed Time: 0:05:36 Time:  0:05:36\n"
     ]
    },
    {
     "name": "stdout",
     "output_type": "stream",
     "text": [
      "Simulation saved as...  sim_weekly_back_alt_BD_20190305_01days.nc\n",
      "\n",
      "Simulations finished for this date!!\n",
      "\n",
      "simulation date... 2019 3 12\n",
      "Starting simulation for run day... 7\n"
     ]
    },
    {
     "name": "stderr",
     "output_type": "stream",
     "text": [
      "INFO: Compiled JITParticleAdvectionRK4 ==> /var/folders/1r/g9d70q7x59s6sd00xl3mmyfw0000gn/T/parcels-501/f3a2cdf837629005ded54776400c7fb5.so\n",
      "100% (604800.0 of 604800.0) |############| Elapsed Time: 1:12:11 Time:  1:12:11\n"
     ]
    },
    {
     "name": "stdout",
     "output_type": "stream",
     "text": [
      "Simulation saved as...  sim_weekly_back_alt_BD_20190312_07days.nc\n",
      "Starting simulation for run day... 1\n"
     ]
    },
    {
     "name": "stderr",
     "output_type": "stream",
     "text": [
      "INFO: Compiled JITParticleAdvectionRK4 ==> /var/folders/1r/g9d70q7x59s6sd00xl3mmyfw0000gn/T/parcels-501/e1bf2ba096a543cd1e859e340f74e373.so\n",
      "100% (86400.0 of 86400.0) |##############| Elapsed Time: 0:05:35 Time:  0:05:35\n"
     ]
    },
    {
     "name": "stdout",
     "output_type": "stream",
     "text": [
      "Simulation saved as...  sim_weekly_back_alt_BD_20190312_01days.nc\n",
      "\n",
      "Simulations finished for this date!!\n",
      "\n",
      "simulation date... 2019 3 19\n",
      "Starting simulation for run day... 7\n"
     ]
    },
    {
     "name": "stderr",
     "output_type": "stream",
     "text": [
      "INFO: Compiled JITParticleAdvectionRK4 ==> /var/folders/1r/g9d70q7x59s6sd00xl3mmyfw0000gn/T/parcels-501/c92231855aedd3bb156b9f2c1fc86a66.so\n",
      "100% (604800.0 of 604800.0) |############| Elapsed Time: 1:13:19 Time:  1:13:19\n"
     ]
    },
    {
     "name": "stdout",
     "output_type": "stream",
     "text": [
      "Simulation saved as...  sim_weekly_back_alt_BD_20190319_07days.nc\n",
      "Starting simulation for run day... 1\n"
     ]
    },
    {
     "name": "stderr",
     "output_type": "stream",
     "text": [
      "INFO: Compiled JITParticleAdvectionRK4 ==> /var/folders/1r/g9d70q7x59s6sd00xl3mmyfw0000gn/T/parcels-501/5e41ec6313657e5e76df1607dcc7ae36.so\n",
      "100% (86400.0 of 86400.0) |##############| Elapsed Time: 0:06:17 Time:  0:06:17\n"
     ]
    },
    {
     "name": "stdout",
     "output_type": "stream",
     "text": [
      "Simulation saved as...  sim_weekly_back_alt_BD_20190319_01days.nc\n",
      "\n",
      "Simulations finished for this date!!\n",
      "\n",
      "simulation date... 2019 3 26\n",
      "Starting simulation for run day... 7\n"
     ]
    },
    {
     "name": "stderr",
     "output_type": "stream",
     "text": [
      "INFO: Compiled JITParticleAdvectionRK4 ==> /var/folders/1r/g9d70q7x59s6sd00xl3mmyfw0000gn/T/parcels-501/165818bbf6afc34b90674c7aa2166aea.so\n",
      "100% (604800.0 of 604800.0) |############| Elapsed Time: 1:22:06 Time:  1:22:06\n"
     ]
    },
    {
     "name": "stdout",
     "output_type": "stream",
     "text": [
      "Simulation saved as...  sim_weekly_back_alt_BD_20190326_07days.nc\n",
      "Starting simulation for run day... 1\n"
     ]
    },
    {
     "name": "stderr",
     "output_type": "stream",
     "text": [
      "INFO: Compiled JITParticleAdvectionRK4 ==> /var/folders/1r/g9d70q7x59s6sd00xl3mmyfw0000gn/T/parcels-501/ba6fcd0cbf5358b7780449aa19799cd6.so\n",
      "100% (86400.0 of 86400.0) |##############| Elapsed Time: 0:07:49 Time:  0:07:49\n"
     ]
    },
    {
     "name": "stdout",
     "output_type": "stream",
     "text": [
      "Simulation saved as...  sim_weekly_back_alt_BD_20190326_01days.nc\n",
      "\n",
      "Simulations finished for this date!!\n",
      "\n",
      "simulation date... 2019 4 2\n",
      "Starting simulation for run day... 7\n"
     ]
    },
    {
     "name": "stderr",
     "output_type": "stream",
     "text": [
      "INFO: Compiled JITParticleAdvectionRK4 ==> /var/folders/1r/g9d70q7x59s6sd00xl3mmyfw0000gn/T/parcels-501/678e33c6884a3d2377899342a8536775.so\n",
      "100% (604800.0 of 604800.0) |############| Elapsed Time: 1:10:39 Time:  1:10:39\n"
     ]
    },
    {
     "name": "stdout",
     "output_type": "stream",
     "text": [
      "Simulation saved as...  sim_weekly_back_alt_BD_20190402_07days.nc\n",
      "Starting simulation for run day... 1\n"
     ]
    },
    {
     "name": "stderr",
     "output_type": "stream",
     "text": [
      "INFO: Compiled JITParticleAdvectionRK4 ==> /var/folders/1r/g9d70q7x59s6sd00xl3mmyfw0000gn/T/parcels-501/355da21dd867d0dcbeaa7b7c18d207e6.so\n",
      "100% (86400.0 of 86400.0) |##############| Elapsed Time: 0:05:27 Time:  0:05:27\n"
     ]
    },
    {
     "name": "stdout",
     "output_type": "stream",
     "text": [
      "Simulation saved as...  sim_weekly_back_alt_BD_20190402_01days.nc\n",
      "\n",
      "Simulations finished for this date!!\n",
      "\n",
      "simulation date... 2019 4 9\n",
      "Starting simulation for run day... 7\n"
     ]
    },
    {
     "name": "stderr",
     "output_type": "stream",
     "text": [
      "INFO: Compiled JITParticleAdvectionRK4 ==> /var/folders/1r/g9d70q7x59s6sd00xl3mmyfw0000gn/T/parcels-501/23a87a1140fad779292dac090760752e.so\n",
      "100% (604800.0 of 604800.0) |############| Elapsed Time: 1:10:04 Time:  1:10:04\n"
     ]
    },
    {
     "name": "stdout",
     "output_type": "stream",
     "text": [
      "Simulation saved as...  sim_weekly_back_alt_BD_20190409_07days.nc\n",
      "Starting simulation for run day... 1\n"
     ]
    },
    {
     "name": "stderr",
     "output_type": "stream",
     "text": [
      "INFO: Compiled JITParticleAdvectionRK4 ==> /var/folders/1r/g9d70q7x59s6sd00xl3mmyfw0000gn/T/parcels-501/bd1b58827b306e6a5582037034eaf268.so\n",
      "100% (86400.0 of 86400.0) |##############| Elapsed Time: 0:05:26 Time:  0:05:26\n"
     ]
    },
    {
     "name": "stdout",
     "output_type": "stream",
     "text": [
      "Simulation saved as...  sim_weekly_back_alt_BD_20190409_01days.nc\n",
      "\n",
      "Simulations finished for this date!!\n",
      "\n",
      "simulation date... 2019 4 16\n",
      "Starting simulation for run day... 7\n"
     ]
    },
    {
     "name": "stderr",
     "output_type": "stream",
     "text": [
      "INFO: Compiled JITParticleAdvectionRK4 ==> /var/folders/1r/g9d70q7x59s6sd00xl3mmyfw0000gn/T/parcels-501/1628a0261f63313d70f18a7da3cc3195.so\n",
      "100% (604800.0 of 604800.0) |############| Elapsed Time: 1:09:56 Time:  1:09:56\n"
     ]
    },
    {
     "name": "stdout",
     "output_type": "stream",
     "text": [
      "Simulation saved as...  sim_weekly_back_alt_BD_20190416_07days.nc\n",
      "Starting simulation for run day... 1\n"
     ]
    },
    {
     "name": "stderr",
     "output_type": "stream",
     "text": [
      "INFO: Compiled JITParticleAdvectionRK4 ==> /var/folders/1r/g9d70q7x59s6sd00xl3mmyfw0000gn/T/parcels-501/9dddd723bc767f6b22d92cde1a3f0f37.so\n",
      "100% (86400.0 of 86400.0) |##############| Elapsed Time: 0:05:35 Time:  0:05:35\n"
     ]
    },
    {
     "name": "stdout",
     "output_type": "stream",
     "text": [
      "Simulation saved as...  sim_weekly_back_alt_BD_20190416_01days.nc\n",
      "\n",
      "Simulations finished for this date!!\n",
      "\n",
      "simulation date... 2019 4 23\n",
      "Starting simulation for run day... 7\n"
     ]
    },
    {
     "name": "stderr",
     "output_type": "stream",
     "text": [
      "INFO: Compiled JITParticleAdvectionRK4 ==> /var/folders/1r/g9d70q7x59s6sd00xl3mmyfw0000gn/T/parcels-501/b07430165d454240b28f0608f5a9e5dd.so\n",
      "100% (604800.0 of 604800.0) |############| Elapsed Time: 1:10:16 Time:  1:10:16\n"
     ]
    },
    {
     "name": "stdout",
     "output_type": "stream",
     "text": [
      "Simulation saved as...  sim_weekly_back_alt_BD_20190423_07days.nc\n",
      "Starting simulation for run day... 1\n"
     ]
    },
    {
     "name": "stderr",
     "output_type": "stream",
     "text": [
      "INFO: Compiled JITParticleAdvectionRK4 ==> /var/folders/1r/g9d70q7x59s6sd00xl3mmyfw0000gn/T/parcels-501/6c916484bb66a1b379fb0a1bab01b921.so\n",
      "100% (86400.0 of 86400.0) |##############| Elapsed Time: 0:05:27 Time:  0:05:27\n"
     ]
    },
    {
     "name": "stdout",
     "output_type": "stream",
     "text": [
      "Simulation saved as...  sim_weekly_back_alt_BD_20190423_01days.nc\n",
      "\n",
      "Simulations finished for this date!!\n",
      "\n",
      "simulation date... 2019 4 30\n",
      "Starting simulation for run day... 7\n"
     ]
    },
    {
     "name": "stderr",
     "output_type": "stream",
     "text": [
      "INFO: Compiled JITParticleAdvectionRK4 ==> /var/folders/1r/g9d70q7x59s6sd00xl3mmyfw0000gn/T/parcels-501/d9ddf856cb0dbe33ab4e2173c3870224.so\n",
      "100% (604800.0 of 604800.0) |############| Elapsed Time: 1:09:48 Time:  1:09:48\n"
     ]
    },
    {
     "name": "stdout",
     "output_type": "stream",
     "text": [
      "Simulation saved as...  sim_weekly_back_alt_BD_20190430_07days.nc\n",
      "Starting simulation for run day... 1\n"
     ]
    },
    {
     "name": "stderr",
     "output_type": "stream",
     "text": [
      "INFO: Compiled JITParticleAdvectionRK4 ==> /var/folders/1r/g9d70q7x59s6sd00xl3mmyfw0000gn/T/parcels-501/3f2cc0aa3e5da421f1595ff0b99eea01.so\n",
      "100% (86400.0 of 86400.0) |##############| Elapsed Time: 0:05:28 Time:  0:05:28\n"
     ]
    },
    {
     "name": "stdout",
     "output_type": "stream",
     "text": [
      "Simulation saved as...  sim_weekly_back_alt_BD_20190430_01days.nc\n",
      "\n",
      "Simulations finished for this date!!\n",
      "\n",
      "simulation date... 2019 5 7\n",
      "Starting simulation for run day... 7\n"
     ]
    },
    {
     "name": "stderr",
     "output_type": "stream",
     "text": [
      "INFO: Compiled JITParticleAdvectionRK4 ==> /var/folders/1r/g9d70q7x59s6sd00xl3mmyfw0000gn/T/parcels-501/783510210b959f1692a1691b3a8d65cc.so\n",
      "100% (604800.0 of 604800.0) |############| Elapsed Time: 1:10:06 Time:  1:10:06\n"
     ]
    },
    {
     "name": "stdout",
     "output_type": "stream",
     "text": [
      "Simulation saved as...  sim_weekly_back_alt_BD_20190507_07days.nc\n",
      "Starting simulation for run day... 1\n"
     ]
    },
    {
     "name": "stderr",
     "output_type": "stream",
     "text": [
      "INFO: Compiled JITParticleAdvectionRK4 ==> /var/folders/1r/g9d70q7x59s6sd00xl3mmyfw0000gn/T/parcels-501/73076726801e21c21c67721ce4c9dfd2.so\n",
      "100% (86400.0 of 86400.0) |##############| Elapsed Time: 0:05:23 Time:  0:05:23\n"
     ]
    },
    {
     "name": "stdout",
     "output_type": "stream",
     "text": [
      "Simulation saved as...  sim_weekly_back_alt_BD_20190507_01days.nc\n",
      "\n",
      "Simulations finished for this date!!\n",
      "\n",
      "SIMULATIONS FINISHED!!\n"
     ]
    }
   ],
   "source": [
    "for date in dates_release:\n",
    "\n",
    "    #date_time_obj = datetime.strptime(date, '%Y%m%d')\n",
    "    date_time_obj = mdates.num2date(date)\n",
    "\n",
    "\n",
    "    year  = date_time_obj.year\n",
    "    month = date_time_obj.month\n",
    "    day   = date_time_obj.day\n",
    "    \n",
    "    \n",
    "    print('simulation date...', year, month, day)\n",
    "    \n",
    "    # Define end date of the simulation (backward simulation)\n",
    "    date_fin = mdates.date2num(datetime(year, month, day, 0, 0, 0))  # Final time of the backward simulation\n",
    "    \n",
    "    \n",
    "    # First, define the names of the files containing the zonal (U) and meridional (V) velocities. \n",
    "    filenames = {'U': dir_netcdf + file_currents,\n",
    "                 'V': dir_netcdf + file_currents}\n",
    "    \n",
    "    # Then, define a dictionary of the variables (`U` and `V`) and dimensions \n",
    "    # (`lon`, `lat` and `time`; note that in this case there is no `depth` because the data \n",
    "    # is only for the surface of the ocean).\n",
    "\n",
    "    # Left: name of the variable that Parcels needs\n",
    "    # Right: name of the variable in the nc file \n",
    "    \n",
    "    variables = {'U': 'ugos',\n",
    "                 'V': 'vgos'}\n",
    "    dimensions = {'lat': 'latitude', # it has to be like this so Parcels can detect this is latitude\n",
    "                  'lon': 'longitude', # lon is from 0 to 360!\n",
    "                  'time': 'time'} # it has to be like this to not have an error\n",
    "    \n",
    "    \n",
    "    # Finally, read in the fieldset using the `FieldSet.from_netcdf` function with the \n",
    "    # above-defined `filenames`, `variables` and `dimensions`\n",
    "    \n",
    "    fieldset = FieldSet.from_netcdf(filenames, variables, dimensions)\n",
    "    \n",
    "    # Allow particles to leave the domain. We need to tell Parcels that particles that \n",
    "    # leave the domain need to be deleted. We do that using a `Recovery Kernel`, which \n",
    "    # will be invoked when a particle encounters an `ErrorOutOfBounds` error:\n",
    "    \n",
    "    #def DeleteParticle(particle, fieldset, time):\n",
    "      #particle.delete()\n",
    "        \n",
    "    # Do all simulations in a loop to test different running times\n",
    "    # Running particles in backward time is extremely simple: just provide a dt < 0.\n",
    "    \n",
    "    daysf = date_fin - date_ori # number of days between date_ori and date_fin    \n",
    "\n",
    "    for rd in rund: # number of days of the simulation (run time)   \n",
    "        daysi = daysf # the release day is the final date\n",
    "        timef = np.ones(lonf.shape) * delta(days=daysi).total_seconds()  # release particle daysi later from 1-Jan-2017\n",
    "    \n",
    "        pset = ParticleSet(fieldset=fieldset, pclass=JITParticle, lon=lonf, lat=latf, time=timef) \n",
    "\n",
    "        savefilename = 'sim_weekly_back_alt_BD_'+mdates.num2date(date_fin).strftime(\"%Y%m%d\")+'_' +'%02i'% rd +'days.nc' \n",
    "        \n",
    "        print('Starting simulation for run day...', rd)\n",
    "\n",
    "        pset.execute(AdvectionRK4,                    # the kernel (which defines how particles move)\n",
    "             runtime=timedelta(days=int(rd)),   # the total length of the run\n",
    "             dt= -timedelta(hours=3),           # negative timestep for backward run\n",
    "             output_file=pset.ParticleFile(name= dirsave + savefilename, outputdt=timedelta(hours=12)), # the file name and the time step of the outputs\n",
    "             recovery={ErrorCode.ErrorOutOfBounds: DeleteParticle})  # the recovery kernel\n",
    "\n",
    "        print('Simulation saved as... ', savefilename)\n",
    "        \n",
    "    print('')\n",
    "    print('Simulations finished for this date!!')\n",
    "    print('')\n",
    "    \n",
    "print('SIMULATIONS FINISHED!!')    "
   ]
  },
  {
   "cell_type": "code",
   "execution_count": 130,
   "metadata": {},
   "outputs": [
    {
     "data": {
      "image/png": "[encoded data removed]",
      "text/plain": [
       "<Figure size 432x288 with 2 Axes>"
      ]
     },
     "metadata": {
      "needs_background": "light"
     },
     "output_type": "display_data"
    }
   ],
   "source": [
    "pset.show(field=fieldset.U)"
   ]
  },
  {
   "cell_type": "code",
   "execution_count": 134,
   "metadata": {},
   "outputs": [
    {
     "ename": "FileNotFoundError",
     "evalue": "[Errno 2] No such file or directory: b'/Users/bbarcelo/HOME_SCIENCE/Scripts/2019_SSS_Ladvection/simulation_notebooks/sim_Oleander_back_alt_20170212_07days.nc'",
     "output_type": "error",
     "traceback": [
      "\u001b[0;31m---------------------------------------------------------------------------\u001b[0m",
      "\u001b[0;31mKeyError\u001b[0m                                  Traceback (most recent call last)",
      "\u001b[0;32m/anaconda3/envs/py3_parcels/lib/python3.7/site-packages/xarray/backends/file_manager.py\u001b[0m in \u001b[0;36macquire\u001b[0;34m(self, needs_lock)\u001b[0m\n\u001b[1;32m    166\u001b[0m             \u001b[0;32mtry\u001b[0m\u001b[0;34m:\u001b[0m\u001b[0;34m\u001b[0m\u001b[0;34m\u001b[0m\u001b[0m\n\u001b[0;32m--> 167\u001b[0;31m                 \u001b[0mfile\u001b[0m \u001b[0;34m=\u001b[0m \u001b[0mself\u001b[0m\u001b[0;34m.\u001b[0m\u001b[0m_cache\u001b[0m\u001b[0;34m[\u001b[0m\u001b[0mself\u001b[0m\u001b[0;34m.\u001b[0m\u001b[0m_key\u001b[0m\u001b[0;34m]\u001b[0m\u001b[0;34m\u001b[0m\u001b[0;34m\u001b[0m\u001b[0m\n\u001b[0m\u001b[1;32m    168\u001b[0m             \u001b[0;32mexcept\u001b[0m \u001b[0mKeyError\u001b[0m\u001b[0;34m:\u001b[0m\u001b[0;34m\u001b[0m\u001b[0;34m\u001b[0m\u001b[0m\n",
      "\u001b[0;32m/anaconda3/envs/py3_parcels/lib/python3.7/site-packages/xarray/backends/lru_cache.py\u001b[0m in \u001b[0;36m__getitem__\u001b[0;34m(self, key)\u001b[0m\n\u001b[1;32m     41\u001b[0m         \u001b[0;32mwith\u001b[0m \u001b[0mself\u001b[0m\u001b[0;34m.\u001b[0m\u001b[0m_lock\u001b[0m\u001b[0;34m:\u001b[0m\u001b[0;34m\u001b[0m\u001b[0;34m\u001b[0m\u001b[0m\n\u001b[0;32m---> 42\u001b[0;31m             \u001b[0mvalue\u001b[0m \u001b[0;34m=\u001b[0m \u001b[0mself\u001b[0m\u001b[0;34m.\u001b[0m\u001b[0m_cache\u001b[0m\u001b[0;34m[\u001b[0m\u001b[0mkey\u001b[0m\u001b[0;34m]\u001b[0m\u001b[0;34m\u001b[0m\u001b[0;34m\u001b[0m\u001b[0m\n\u001b[0m\u001b[1;32m     43\u001b[0m             \u001b[0mself\u001b[0m\u001b[0;34m.\u001b[0m\u001b[0m_cache\u001b[0m\u001b[0;34m.\u001b[0m\u001b[0mmove_to_end\u001b[0m\u001b[0;34m(\u001b[0m\u001b[0mkey\u001b[0m\u001b[0;34m)\u001b[0m\u001b[0;34m\u001b[0m\u001b[0;34m\u001b[0m\u001b[0m\n",
      "\u001b[0;31mKeyError\u001b[0m: [<function _open_netcdf4_group at 0x11b26c158>, ('/Users/bbarcelo/HOME_SCIENCE/Scripts/2019_SSS_Ladvection/simulation_notebooks/sim_Oleander_back_alt_20170212_07days.nc', CombinedLock([<unlocked _thread.lock object at 0x11b22e300>, <unlocked _thread.lock object at 0x11b22e350>])), 'r', (('clobber', True), ('diskless', False), ('format', 'NETCDF4'), ('group', None), ('persist', False))]",
      "\nDuring handling of the above exception, another exception occurred:\n",
      "\u001b[0;31mFileNotFoundError\u001b[0m                         Traceback (most recent call last)",
      "\u001b[0;32m/anaconda3/envs/py3_parcels/lib/python3.7/site-packages/parcels/scripts/plottrajectoriesfile.py\u001b[0m in \u001b[0;36mplotTrajectoriesFile\u001b[0;34m(filename, mode, tracerfile, tracerfield, tracerlon, tracerlat, recordedvar, movie_forward, bins, show_plt)\u001b[0m\n\u001b[1;32m     40\u001b[0m     \u001b[0;32mtry\u001b[0m\u001b[0;34m:\u001b[0m\u001b[0;34m\u001b[0m\u001b[0;34m\u001b[0m\u001b[0m\n\u001b[0;32m---> 41\u001b[0;31m         \u001b[0mpfile\u001b[0m \u001b[0;34m=\u001b[0m \u001b[0mxr\u001b[0m\u001b[0;34m.\u001b[0m\u001b[0mopen_dataset\u001b[0m\u001b[0;34m(\u001b[0m\u001b[0mstr\u001b[0m\u001b[0;34m(\u001b[0m\u001b[0mfilename\u001b[0m\u001b[0;34m)\u001b[0m\u001b[0;34m,\u001b[0m \u001b[0mdecode_cf\u001b[0m\u001b[0;34m=\u001b[0m\u001b[0;32mTrue\u001b[0m\u001b[0;34m)\u001b[0m\u001b[0;34m\u001b[0m\u001b[0;34m\u001b[0m\u001b[0m\n\u001b[0m\u001b[1;32m     42\u001b[0m     \u001b[0;32mexcept\u001b[0m\u001b[0;34m:\u001b[0m\u001b[0;34m\u001b[0m\u001b[0;34m\u001b[0m\u001b[0m\n",
      "\u001b[0;32m/anaconda3/envs/py3_parcels/lib/python3.7/site-packages/xarray/backends/api.py\u001b[0m in \u001b[0;36mopen_dataset\u001b[0;34m(filename_or_obj, group, decode_cf, mask_and_scale, decode_times, autoclose, concat_characters, decode_coords, engine, chunks, lock, cache, drop_variables, backend_kwargs, use_cftime)\u001b[0m\n\u001b[1;32m    419\u001b[0m             store = backends.NetCDF4DataStore.open(\n\u001b[0;32m--> 420\u001b[0;31m                 filename_or_obj, group=group, lock=lock, **backend_kwargs)\n\u001b[0m\u001b[1;32m    421\u001b[0m         \u001b[0;32melif\u001b[0m \u001b[0mengine\u001b[0m \u001b[0;34m==\u001b[0m \u001b[0;34m'scipy'\u001b[0m\u001b[0;34m:\u001b[0m\u001b[0;34m\u001b[0m\u001b[0;34m\u001b[0m\u001b[0m\n",
      "\u001b[0;32m/anaconda3/envs/py3_parcels/lib/python3.7/site-packages/xarray/backends/netCDF4_.py\u001b[0m in \u001b[0;36mopen\u001b[0;34m(cls, filename, mode, format, group, clobber, diskless, persist, lock, lock_maker, autoclose)\u001b[0m\n\u001b[1;32m    359\u001b[0m                         persist=persist, format=format))\n\u001b[0;32m--> 360\u001b[0;31m         \u001b[0;32mreturn\u001b[0m \u001b[0mcls\u001b[0m\u001b[0;34m(\u001b[0m\u001b[0mmanager\u001b[0m\u001b[0;34m,\u001b[0m \u001b[0mlock\u001b[0m\u001b[0;34m=\u001b[0m\u001b[0mlock\u001b[0m\u001b[0;34m,\u001b[0m \u001b[0mautoclose\u001b[0m\u001b[0;34m=\u001b[0m\u001b[0mautoclose\u001b[0m\u001b[0;34m)\u001b[0m\u001b[0;34m\u001b[0m\u001b[0;34m\u001b[0m\u001b[0m\n\u001b[0m\u001b[1;32m    361\u001b[0m \u001b[0;34m\u001b[0m\u001b[0m\n",
      "\u001b[0;32m/anaconda3/envs/py3_parcels/lib/python3.7/site-packages/xarray/backends/netCDF4_.py\u001b[0m in \u001b[0;36m__init__\u001b[0;34m(self, manager, lock, autoclose)\u001b[0m\n\u001b[1;32m    318\u001b[0m         \u001b[0mself\u001b[0m\u001b[0;34m.\u001b[0m\u001b[0m_manager\u001b[0m \u001b[0;34m=\u001b[0m \u001b[0mmanager\u001b[0m\u001b[0;34m\u001b[0m\u001b[0;34m\u001b[0m\u001b[0m\n\u001b[0;32m--> 319\u001b[0;31m         \u001b[0mself\u001b[0m\u001b[0;34m.\u001b[0m\u001b[0mformat\u001b[0m \u001b[0;34m=\u001b[0m \u001b[0mself\u001b[0m\u001b[0;34m.\u001b[0m\u001b[0mds\u001b[0m\u001b[0;34m.\u001b[0m\u001b[0mdata_model\u001b[0m\u001b[0;34m\u001b[0m\u001b[0;34m\u001b[0m\u001b[0m\n\u001b[0m\u001b[1;32m    320\u001b[0m         \u001b[0mself\u001b[0m\u001b[0;34m.\u001b[0m\u001b[0m_filename\u001b[0m \u001b[0;34m=\u001b[0m \u001b[0mself\u001b[0m\u001b[0;34m.\u001b[0m\u001b[0mds\u001b[0m\u001b[0;34m.\u001b[0m\u001b[0mfilepath\u001b[0m\u001b[0;34m(\u001b[0m\u001b[0;34m)\u001b[0m\u001b[0;34m\u001b[0m\u001b[0;34m\u001b[0m\u001b[0m\n",
      "\u001b[0;32m/anaconda3/envs/py3_parcels/lib/python3.7/site-packages/xarray/backends/netCDF4_.py\u001b[0m in \u001b[0;36mds\u001b[0;34m(self)\u001b[0m\n\u001b[1;32m    363\u001b[0m     \u001b[0;32mdef\u001b[0m \u001b[0mds\u001b[0m\u001b[0;34m(\u001b[0m\u001b[0mself\u001b[0m\u001b[0;34m)\u001b[0m\u001b[0;34m:\u001b[0m\u001b[0;34m\u001b[0m\u001b[0;34m\u001b[0m\u001b[0m\n\u001b[0;32m--> 364\u001b[0;31m         \u001b[0;32mreturn\u001b[0m \u001b[0mself\u001b[0m\u001b[0;34m.\u001b[0m\u001b[0m_manager\u001b[0m\u001b[0;34m.\u001b[0m\u001b[0macquire\u001b[0m\u001b[0;34m(\u001b[0m\u001b[0;34m)\u001b[0m\u001b[0;34m.\u001b[0m\u001b[0mvalue\u001b[0m\u001b[0;34m\u001b[0m\u001b[0;34m\u001b[0m\u001b[0m\n\u001b[0m\u001b[1;32m    365\u001b[0m \u001b[0;34m\u001b[0m\u001b[0m\n",
      "\u001b[0;32m/anaconda3/envs/py3_parcels/lib/python3.7/site-packages/xarray/backends/file_manager.py\u001b[0m in \u001b[0;36macquire\u001b[0;34m(self, needs_lock)\u001b[0m\n\u001b[1;32m    172\u001b[0m                     \u001b[0mkwargs\u001b[0m\u001b[0;34m[\u001b[0m\u001b[0;34m'mode'\u001b[0m\u001b[0;34m]\u001b[0m \u001b[0;34m=\u001b[0m \u001b[0mself\u001b[0m\u001b[0;34m.\u001b[0m\u001b[0m_mode\u001b[0m\u001b[0;34m\u001b[0m\u001b[0;34m\u001b[0m\u001b[0m\n\u001b[0;32m--> 173\u001b[0;31m                 \u001b[0mfile\u001b[0m \u001b[0;34m=\u001b[0m \u001b[0mself\u001b[0m\u001b[0;34m.\u001b[0m\u001b[0m_opener\u001b[0m\u001b[0;34m(\u001b[0m\u001b[0;34m*\u001b[0m\u001b[0mself\u001b[0m\u001b[0;34m.\u001b[0m\u001b[0m_args\u001b[0m\u001b[0;34m,\u001b[0m \u001b[0;34m**\u001b[0m\u001b[0mkwargs\u001b[0m\u001b[0;34m)\u001b[0m\u001b[0;34m\u001b[0m\u001b[0;34m\u001b[0m\u001b[0m\n\u001b[0m\u001b[1;32m    174\u001b[0m                 \u001b[0;32mif\u001b[0m \u001b[0mself\u001b[0m\u001b[0;34m.\u001b[0m\u001b[0m_mode\u001b[0m \u001b[0;34m==\u001b[0m \u001b[0;34m'w'\u001b[0m\u001b[0;34m:\u001b[0m\u001b[0;34m\u001b[0m\u001b[0;34m\u001b[0m\u001b[0m\n",
      "\u001b[0;32m/anaconda3/envs/py3_parcels/lib/python3.7/site-packages/xarray/backends/netCDF4_.py\u001b[0m in \u001b[0;36m_open_netcdf4_group\u001b[0;34m(filename, lock, mode, group, **kwargs)\u001b[0m\n\u001b[1;32m    251\u001b[0m \u001b[0;34m\u001b[0m\u001b[0m\n\u001b[0;32m--> 252\u001b[0;31m     \u001b[0mds\u001b[0m \u001b[0;34m=\u001b[0m \u001b[0mnc4\u001b[0m\u001b[0;34m.\u001b[0m\u001b[0mDataset\u001b[0m\u001b[0;34m(\u001b[0m\u001b[0mfilename\u001b[0m\u001b[0;34m,\u001b[0m \u001b[0mmode\u001b[0m\u001b[0;34m=\u001b[0m\u001b[0mmode\u001b[0m\u001b[0;34m,\u001b[0m \u001b[0;34m**\u001b[0m\u001b[0mkwargs\u001b[0m\u001b[0;34m)\u001b[0m\u001b[0;34m\u001b[0m\u001b[0;34m\u001b[0m\u001b[0m\n\u001b[0m\u001b[1;32m    253\u001b[0m \u001b[0;34m\u001b[0m\u001b[0m\n",
      "\u001b[0;32mnetCDF4/_netCDF4.pyx\u001b[0m in \u001b[0;36mnetCDF4._netCDF4.Dataset.__init__\u001b[0;34m()\u001b[0m\n",
      "\u001b[0;32mnetCDF4/_netCDF4.pyx\u001b[0m in \u001b[0;36mnetCDF4._netCDF4._ensure_nc_success\u001b[0;34m()\u001b[0m\n",
      "\u001b[0;31mFileNotFoundError\u001b[0m: [Errno 2] No such file or directory: b'/Users/bbarcelo/HOME_SCIENCE/Scripts/2019_SSS_Ladvection/simulation_notebooks/sim_Oleander_back_alt_20170212_07days.nc'",
      "\nDuring handling of the above exception, another exception occurred:\n",
      "\u001b[0;31mKeyError\u001b[0m                                  Traceback (most recent call last)",
      "\u001b[0;32m/anaconda3/envs/py3_parcels/lib/python3.7/site-packages/xarray/backends/file_manager.py\u001b[0m in \u001b[0;36macquire\u001b[0;34m(self, needs_lock)\u001b[0m\n\u001b[1;32m    166\u001b[0m             \u001b[0;32mtry\u001b[0m\u001b[0;34m:\u001b[0m\u001b[0;34m\u001b[0m\u001b[0;34m\u001b[0m\u001b[0m\n\u001b[0;32m--> 167\u001b[0;31m                 \u001b[0mfile\u001b[0m \u001b[0;34m=\u001b[0m \u001b[0mself\u001b[0m\u001b[0;34m.\u001b[0m\u001b[0m_cache\u001b[0m\u001b[0;34m[\u001b[0m\u001b[0mself\u001b[0m\u001b[0;34m.\u001b[0m\u001b[0m_key\u001b[0m\u001b[0;34m]\u001b[0m\u001b[0;34m\u001b[0m\u001b[0;34m\u001b[0m\u001b[0m\n\u001b[0m\u001b[1;32m    168\u001b[0m             \u001b[0;32mexcept\u001b[0m \u001b[0mKeyError\u001b[0m\u001b[0;34m:\u001b[0m\u001b[0;34m\u001b[0m\u001b[0;34m\u001b[0m\u001b[0m\n",
      "\u001b[0;32m/anaconda3/envs/py3_parcels/lib/python3.7/site-packages/xarray/backends/lru_cache.py\u001b[0m in \u001b[0;36m__getitem__\u001b[0;34m(self, key)\u001b[0m\n\u001b[1;32m     41\u001b[0m         \u001b[0;32mwith\u001b[0m \u001b[0mself\u001b[0m\u001b[0;34m.\u001b[0m\u001b[0m_lock\u001b[0m\u001b[0;34m:\u001b[0m\u001b[0;34m\u001b[0m\u001b[0;34m\u001b[0m\u001b[0m\n\u001b[0;32m---> 42\u001b[0;31m             \u001b[0mvalue\u001b[0m \u001b[0;34m=\u001b[0m \u001b[0mself\u001b[0m\u001b[0;34m.\u001b[0m\u001b[0m_cache\u001b[0m\u001b[0;34m[\u001b[0m\u001b[0mkey\u001b[0m\u001b[0;34m]\u001b[0m\u001b[0;34m\u001b[0m\u001b[0;34m\u001b[0m\u001b[0m\n\u001b[0m\u001b[1;32m     43\u001b[0m             \u001b[0mself\u001b[0m\u001b[0;34m.\u001b[0m\u001b[0m_cache\u001b[0m\u001b[0;34m.\u001b[0m\u001b[0mmove_to_end\u001b[0m\u001b[0;34m(\u001b[0m\u001b[0mkey\u001b[0m\u001b[0;34m)\u001b[0m\u001b[0;34m\u001b[0m\u001b[0;34m\u001b[0m\u001b[0m\n",
      "\u001b[0;31mKeyError\u001b[0m: [<function _open_netcdf4_group at 0x11b26c158>, ('/Users/bbarcelo/HOME_SCIENCE/Scripts/2019_SSS_Ladvection/simulation_notebooks/sim_Oleander_back_alt_20170212_07days.nc', CombinedLock([<unlocked _thread.lock object at 0x11b22e300>, <unlocked _thread.lock object at 0x11b22e350>])), 'r', (('clobber', True), ('diskless', False), ('format', 'NETCDF4'), ('group', None), ('persist', False))]",
      "\nDuring handling of the above exception, another exception occurred:\n",
      "\u001b[0;31mFileNotFoundError\u001b[0m                         Traceback (most recent call last)",
      "\u001b[0;32m<ipython-input-134-c0cfdcde9c4a>\u001b[0m in \u001b[0;36m<module>\u001b[0;34m\u001b[0m\n\u001b[0;32m----> 1\u001b[0;31m \u001b[0mplotTrajectoriesFile\u001b[0m\u001b[0;34m(\u001b[0m\u001b[0msavefilename\u001b[0m\u001b[0;34m)\u001b[0m\u001b[0;34m;\u001b[0m\u001b[0;34m\u001b[0m\u001b[0;34m\u001b[0m\u001b[0m\n\u001b[0m",
      "\u001b[0;32m/anaconda3/envs/py3_parcels/lib/python3.7/site-packages/parcels/scripts/plottrajectoriesfile.py\u001b[0m in \u001b[0;36mplotTrajectoriesFile\u001b[0;34m(filename, mode, tracerfile, tracerfield, tracerlon, tracerlat, recordedvar, movie_forward, bins, show_plt)\u001b[0m\n\u001b[1;32m     41\u001b[0m         \u001b[0mpfile\u001b[0m \u001b[0;34m=\u001b[0m \u001b[0mxr\u001b[0m\u001b[0;34m.\u001b[0m\u001b[0mopen_dataset\u001b[0m\u001b[0;34m(\u001b[0m\u001b[0mstr\u001b[0m\u001b[0;34m(\u001b[0m\u001b[0mfilename\u001b[0m\u001b[0;34m)\u001b[0m\u001b[0;34m,\u001b[0m \u001b[0mdecode_cf\u001b[0m\u001b[0;34m=\u001b[0m\u001b[0;32mTrue\u001b[0m\u001b[0;34m)\u001b[0m\u001b[0;34m\u001b[0m\u001b[0;34m\u001b[0m\u001b[0m\n\u001b[1;32m     42\u001b[0m     \u001b[0;32mexcept\u001b[0m\u001b[0;34m:\u001b[0m\u001b[0;34m\u001b[0m\u001b[0;34m\u001b[0m\u001b[0m\n\u001b[0;32m---> 43\u001b[0;31m         \u001b[0mpfile\u001b[0m \u001b[0;34m=\u001b[0m \u001b[0mxr\u001b[0m\u001b[0;34m.\u001b[0m\u001b[0mopen_dataset\u001b[0m\u001b[0;34m(\u001b[0m\u001b[0mstr\u001b[0m\u001b[0;34m(\u001b[0m\u001b[0mfilename\u001b[0m\u001b[0;34m)\u001b[0m\u001b[0;34m,\u001b[0m \u001b[0mdecode_cf\u001b[0m\u001b[0;34m=\u001b[0m\u001b[0;32mFalse\u001b[0m\u001b[0;34m)\u001b[0m\u001b[0;34m\u001b[0m\u001b[0;34m\u001b[0m\u001b[0m\n\u001b[0m\u001b[1;32m     44\u001b[0m     \u001b[0mlon\u001b[0m \u001b[0;34m=\u001b[0m \u001b[0mnp\u001b[0m\u001b[0;34m.\u001b[0m\u001b[0mma\u001b[0m\u001b[0;34m.\u001b[0m\u001b[0mfilled\u001b[0m\u001b[0;34m(\u001b[0m\u001b[0mpfile\u001b[0m\u001b[0;34m.\u001b[0m\u001b[0mvariables\u001b[0m\u001b[0;34m[\u001b[0m\u001b[0;34m'lon'\u001b[0m\u001b[0;34m]\u001b[0m\u001b[0;34m,\u001b[0m \u001b[0mnp\u001b[0m\u001b[0;34m.\u001b[0m\u001b[0mnan\u001b[0m\u001b[0;34m)\u001b[0m\u001b[0;34m\u001b[0m\u001b[0;34m\u001b[0m\u001b[0m\n\u001b[1;32m     45\u001b[0m     \u001b[0mlat\u001b[0m \u001b[0;34m=\u001b[0m \u001b[0mnp\u001b[0m\u001b[0;34m.\u001b[0m\u001b[0mma\u001b[0m\u001b[0;34m.\u001b[0m\u001b[0mfilled\u001b[0m\u001b[0;34m(\u001b[0m\u001b[0mpfile\u001b[0m\u001b[0;34m.\u001b[0m\u001b[0mvariables\u001b[0m\u001b[0;34m[\u001b[0m\u001b[0;34m'lat'\u001b[0m\u001b[0;34m]\u001b[0m\u001b[0;34m,\u001b[0m \u001b[0mnp\u001b[0m\u001b[0;34m.\u001b[0m\u001b[0mnan\u001b[0m\u001b[0;34m)\u001b[0m\u001b[0;34m\u001b[0m\u001b[0;34m\u001b[0m\u001b[0m\n",
      "\u001b[0;32m/anaconda3/envs/py3_parcels/lib/python3.7/site-packages/xarray/backends/api.py\u001b[0m in \u001b[0;36mopen_dataset\u001b[0;34m(filename_or_obj, group, decode_cf, mask_and_scale, decode_times, autoclose, concat_characters, decode_coords, engine, chunks, lock, cache, drop_variables, backend_kwargs, use_cftime)\u001b[0m\n\u001b[1;32m    418\u001b[0m         \u001b[0;32mif\u001b[0m \u001b[0mengine\u001b[0m \u001b[0;34m==\u001b[0m \u001b[0;34m'netcdf4'\u001b[0m\u001b[0;34m:\u001b[0m\u001b[0;34m\u001b[0m\u001b[0;34m\u001b[0m\u001b[0m\n\u001b[1;32m    419\u001b[0m             store = backends.NetCDF4DataStore.open(\n\u001b[0;32m--> 420\u001b[0;31m                 filename_or_obj, group=group, lock=lock, **backend_kwargs)\n\u001b[0m\u001b[1;32m    421\u001b[0m         \u001b[0;32melif\u001b[0m \u001b[0mengine\u001b[0m \u001b[0;34m==\u001b[0m \u001b[0;34m'scipy'\u001b[0m\u001b[0;34m:\u001b[0m\u001b[0;34m\u001b[0m\u001b[0;34m\u001b[0m\u001b[0m\n\u001b[1;32m    422\u001b[0m             \u001b[0mstore\u001b[0m \u001b[0;34m=\u001b[0m \u001b[0mbackends\u001b[0m\u001b[0;34m.\u001b[0m\u001b[0mScipyDataStore\u001b[0m\u001b[0;34m(\u001b[0m\u001b[0mfilename_or_obj\u001b[0m\u001b[0;34m,\u001b[0m \u001b[0;34m**\u001b[0m\u001b[0mbackend_kwargs\u001b[0m\u001b[0;34m)\u001b[0m\u001b[0;34m\u001b[0m\u001b[0;34m\u001b[0m\u001b[0m\n",
      "\u001b[0;32m/anaconda3/envs/py3_parcels/lib/python3.7/site-packages/xarray/backends/netCDF4_.py\u001b[0m in \u001b[0;36mopen\u001b[0;34m(cls, filename, mode, format, group, clobber, diskless, persist, lock, lock_maker, autoclose)\u001b[0m\n\u001b[1;32m    358\u001b[0m             kwargs=dict(group=group, clobber=clobber, diskless=diskless,\n\u001b[1;32m    359\u001b[0m                         persist=persist, format=format))\n\u001b[0;32m--> 360\u001b[0;31m         \u001b[0;32mreturn\u001b[0m \u001b[0mcls\u001b[0m\u001b[0;34m(\u001b[0m\u001b[0mmanager\u001b[0m\u001b[0;34m,\u001b[0m \u001b[0mlock\u001b[0m\u001b[0;34m=\u001b[0m\u001b[0mlock\u001b[0m\u001b[0;34m,\u001b[0m \u001b[0mautoclose\u001b[0m\u001b[0;34m=\u001b[0m\u001b[0mautoclose\u001b[0m\u001b[0;34m)\u001b[0m\u001b[0;34m\u001b[0m\u001b[0;34m\u001b[0m\u001b[0m\n\u001b[0m\u001b[1;32m    361\u001b[0m \u001b[0;34m\u001b[0m\u001b[0m\n\u001b[1;32m    362\u001b[0m     \u001b[0;34m@\u001b[0m\u001b[0mproperty\u001b[0m\u001b[0;34m\u001b[0m\u001b[0;34m\u001b[0m\u001b[0m\n",
      "\u001b[0;32m/anaconda3/envs/py3_parcels/lib/python3.7/site-packages/xarray/backends/netCDF4_.py\u001b[0m in \u001b[0;36m__init__\u001b[0;34m(self, manager, lock, autoclose)\u001b[0m\n\u001b[1;32m    317\u001b[0m \u001b[0;34m\u001b[0m\u001b[0m\n\u001b[1;32m    318\u001b[0m         \u001b[0mself\u001b[0m\u001b[0;34m.\u001b[0m\u001b[0m_manager\u001b[0m \u001b[0;34m=\u001b[0m \u001b[0mmanager\u001b[0m\u001b[0;34m\u001b[0m\u001b[0;34m\u001b[0m\u001b[0m\n\u001b[0;32m--> 319\u001b[0;31m         \u001b[0mself\u001b[0m\u001b[0;34m.\u001b[0m\u001b[0mformat\u001b[0m \u001b[0;34m=\u001b[0m \u001b[0mself\u001b[0m\u001b[0;34m.\u001b[0m\u001b[0mds\u001b[0m\u001b[0;34m.\u001b[0m\u001b[0mdata_model\u001b[0m\u001b[0;34m\u001b[0m\u001b[0;34m\u001b[0m\u001b[0m\n\u001b[0m\u001b[1;32m    320\u001b[0m         \u001b[0mself\u001b[0m\u001b[0;34m.\u001b[0m\u001b[0m_filename\u001b[0m \u001b[0;34m=\u001b[0m \u001b[0mself\u001b[0m\u001b[0;34m.\u001b[0m\u001b[0mds\u001b[0m\u001b[0;34m.\u001b[0m\u001b[0mfilepath\u001b[0m\u001b[0;34m(\u001b[0m\u001b[0;34m)\u001b[0m\u001b[0;34m\u001b[0m\u001b[0;34m\u001b[0m\u001b[0m\n\u001b[1;32m    321\u001b[0m         \u001b[0mself\u001b[0m\u001b[0;34m.\u001b[0m\u001b[0mis_remote\u001b[0m \u001b[0;34m=\u001b[0m \u001b[0mis_remote_uri\u001b[0m\u001b[0;34m(\u001b[0m\u001b[0mself\u001b[0m\u001b[0;34m.\u001b[0m\u001b[0m_filename\u001b[0m\u001b[0;34m)\u001b[0m\u001b[0;34m\u001b[0m\u001b[0;34m\u001b[0m\u001b[0m\n",
      "\u001b[0;32m/anaconda3/envs/py3_parcels/lib/python3.7/site-packages/xarray/backends/netCDF4_.py\u001b[0m in \u001b[0;36mds\u001b[0;34m(self)\u001b[0m\n\u001b[1;32m    362\u001b[0m     \u001b[0;34m@\u001b[0m\u001b[0mproperty\u001b[0m\u001b[0;34m\u001b[0m\u001b[0;34m\u001b[0m\u001b[0m\n\u001b[1;32m    363\u001b[0m     \u001b[0;32mdef\u001b[0m \u001b[0mds\u001b[0m\u001b[0;34m(\u001b[0m\u001b[0mself\u001b[0m\u001b[0;34m)\u001b[0m\u001b[0;34m:\u001b[0m\u001b[0;34m\u001b[0m\u001b[0;34m\u001b[0m\u001b[0m\n\u001b[0;32m--> 364\u001b[0;31m         \u001b[0;32mreturn\u001b[0m \u001b[0mself\u001b[0m\u001b[0;34m.\u001b[0m\u001b[0m_manager\u001b[0m\u001b[0;34m.\u001b[0m\u001b[0macquire\u001b[0m\u001b[0;34m(\u001b[0m\u001b[0;34m)\u001b[0m\u001b[0;34m.\u001b[0m\u001b[0mvalue\u001b[0m\u001b[0;34m\u001b[0m\u001b[0;34m\u001b[0m\u001b[0m\n\u001b[0m\u001b[1;32m    365\u001b[0m \u001b[0;34m\u001b[0m\u001b[0m\n\u001b[1;32m    366\u001b[0m     \u001b[0;32mdef\u001b[0m \u001b[0mopen_store_variable\u001b[0m\u001b[0;34m(\u001b[0m\u001b[0mself\u001b[0m\u001b[0;34m,\u001b[0m \u001b[0mname\u001b[0m\u001b[0;34m,\u001b[0m \u001b[0mvar\u001b[0m\u001b[0;34m)\u001b[0m\u001b[0;34m:\u001b[0m\u001b[0;34m\u001b[0m\u001b[0;34m\u001b[0m\u001b[0m\n",
      "\u001b[0;32m/anaconda3/envs/py3_parcels/lib/python3.7/site-packages/xarray/backends/file_manager.py\u001b[0m in \u001b[0;36macquire\u001b[0;34m(self, needs_lock)\u001b[0m\n\u001b[1;32m    171\u001b[0m                     \u001b[0mkwargs\u001b[0m \u001b[0;34m=\u001b[0m \u001b[0mkwargs\u001b[0m\u001b[0;34m.\u001b[0m\u001b[0mcopy\u001b[0m\u001b[0;34m(\u001b[0m\u001b[0;34m)\u001b[0m\u001b[0;34m\u001b[0m\u001b[0;34m\u001b[0m\u001b[0m\n\u001b[1;32m    172\u001b[0m                     \u001b[0mkwargs\u001b[0m\u001b[0;34m[\u001b[0m\u001b[0;34m'mode'\u001b[0m\u001b[0;34m]\u001b[0m \u001b[0;34m=\u001b[0m \u001b[0mself\u001b[0m\u001b[0;34m.\u001b[0m\u001b[0m_mode\u001b[0m\u001b[0;34m\u001b[0m\u001b[0;34m\u001b[0m\u001b[0m\n\u001b[0;32m--> 173\u001b[0;31m                 \u001b[0mfile\u001b[0m \u001b[0;34m=\u001b[0m \u001b[0mself\u001b[0m\u001b[0;34m.\u001b[0m\u001b[0m_opener\u001b[0m\u001b[0;34m(\u001b[0m\u001b[0;34m*\u001b[0m\u001b[0mself\u001b[0m\u001b[0;34m.\u001b[0m\u001b[0m_args\u001b[0m\u001b[0;34m,\u001b[0m \u001b[0;34m**\u001b[0m\u001b[0mkwargs\u001b[0m\u001b[0;34m)\u001b[0m\u001b[0;34m\u001b[0m\u001b[0;34m\u001b[0m\u001b[0m\n\u001b[0m\u001b[1;32m    174\u001b[0m                 \u001b[0;32mif\u001b[0m \u001b[0mself\u001b[0m\u001b[0;34m.\u001b[0m\u001b[0m_mode\u001b[0m \u001b[0;34m==\u001b[0m \u001b[0;34m'w'\u001b[0m\u001b[0;34m:\u001b[0m\u001b[0;34m\u001b[0m\u001b[0;34m\u001b[0m\u001b[0m\n\u001b[1;32m    175\u001b[0m                     \u001b[0;31m# ensure file doesn't get overriden when opened again\u001b[0m\u001b[0;34m\u001b[0m\u001b[0;34m\u001b[0m\u001b[0;34m\u001b[0m\u001b[0m\n",
      "\u001b[0;32m/anaconda3/envs/py3_parcels/lib/python3.7/site-packages/xarray/backends/netCDF4_.py\u001b[0m in \u001b[0;36m_open_netcdf4_group\u001b[0;34m(filename, lock, mode, group, **kwargs)\u001b[0m\n\u001b[1;32m    250\u001b[0m     \u001b[0;32mimport\u001b[0m \u001b[0mnetCDF4\u001b[0m \u001b[0;32mas\u001b[0m \u001b[0mnc4\u001b[0m\u001b[0;34m\u001b[0m\u001b[0;34m\u001b[0m\u001b[0m\n\u001b[1;32m    251\u001b[0m \u001b[0;34m\u001b[0m\u001b[0m\n\u001b[0;32m--> 252\u001b[0;31m     \u001b[0mds\u001b[0m \u001b[0;34m=\u001b[0m \u001b[0mnc4\u001b[0m\u001b[0;34m.\u001b[0m\u001b[0mDataset\u001b[0m\u001b[0;34m(\u001b[0m\u001b[0mfilename\u001b[0m\u001b[0;34m,\u001b[0m \u001b[0mmode\u001b[0m\u001b[0;34m=\u001b[0m\u001b[0mmode\u001b[0m\u001b[0;34m,\u001b[0m \u001b[0;34m**\u001b[0m\u001b[0mkwargs\u001b[0m\u001b[0;34m)\u001b[0m\u001b[0;34m\u001b[0m\u001b[0;34m\u001b[0m\u001b[0m\n\u001b[0m\u001b[1;32m    253\u001b[0m \u001b[0;34m\u001b[0m\u001b[0m\n\u001b[1;32m    254\u001b[0m     \u001b[0;32mwith\u001b[0m \u001b[0mclose_on_error\u001b[0m\u001b[0;34m(\u001b[0m\u001b[0mds\u001b[0m\u001b[0;34m)\u001b[0m\u001b[0;34m:\u001b[0m\u001b[0;34m\u001b[0m\u001b[0;34m\u001b[0m\u001b[0m\n",
      "\u001b[0;32mnetCDF4/_netCDF4.pyx\u001b[0m in \u001b[0;36mnetCDF4._netCDF4.Dataset.__init__\u001b[0;34m()\u001b[0m\n",
      "\u001b[0;32mnetCDF4/_netCDF4.pyx\u001b[0m in \u001b[0;36mnetCDF4._netCDF4._ensure_nc_success\u001b[0;34m()\u001b[0m\n",
      "\u001b[0;31mFileNotFoundError\u001b[0m: [Errno 2] No such file or directory: b'/Users/bbarcelo/HOME_SCIENCE/Scripts/2019_SSS_Ladvection/simulation_notebooks/sim_Oleander_back_alt_20170212_07days.nc'"
     ]
    }
   ],
   "source": [
    "plotTrajectoriesFile(savefilename);"
   ]
  },
  {
   "cell_type": "code",
   "execution_count": null,
   "metadata": {},
   "outputs": [],
   "source": []
  }
 ],
 "metadata": {
  "kernelspec": {
   "display_name": "Python 3 (ipykernel)",
   "language": "python",
   "name": "python3"
  },
  "language_info": {
   "codemirror_mode": {
    "name": "ipython",
    "version": 3
   },
   "file_extension": ".py",
   "mimetype": "text/x-python",
   "name": "python",
   "nbconvert_exporter": "python",
   "pygments_lexer": "ipython3",
   "version": "3.9.13"
  }
 },
 "nbformat": 4,
 "nbformat_minor": 2
}
