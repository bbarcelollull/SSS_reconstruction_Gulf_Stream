{
 "cells": [
  {
   "cell_type": "markdown",
   "metadata": {},
   "source": [
    "# Simulation using Oscar currents\n"
   ]
  },
  {
   "cell_type": "markdown",
   "metadata": {},
   "source": [
    "### Backward simulations within the Oleander domain (Gulf Stream). \n",
    "\n",
    "### Bigger domain and for 1 day.\n",
    "\n"
   ]
  },
  {
   "cell_type": "code",
   "execution_count": 2,
   "metadata": {},
   "outputs": [],
   "source": [
    "%matplotlib inline\n",
    "from parcels import Field, FieldSet, ParticleSet, Variable, JITParticle, AdvectionRK4, plotTrajectoriesFile, ErrorCode\n",
    "import numpy as np\n",
    "import math\n",
    "from datetime import timedelta\n",
    "from operator import attrgetter\n",
    "from datetime import timedelta as delta\n",
    "\n",
    "from matplotlib              import dates as mdates\n",
    "from datetime                import datetime \n",
    "import pickle"
   ]
  },
  {
   "cell_type": "markdown",
   "metadata": {},
   "source": [
    "## Save the outputs in this directory"
   ]
  },
  {
   "cell_type": "code",
   "execution_count": 3,
   "metadata": {},
   "outputs": [],
   "source": [
    "dirsave    = '/Users/bbarcelo/HOME_SCIENCE/Data/2019_SSS_Ladvection/sim_Oleander_all/sim_outputs/' #save outputs directory"
   ]
  },
  {
   "cell_type": "markdown",
   "metadata": {},
   "source": [
    "## Oscar data directory"
   ]
  },
  {
   "cell_type": "code",
   "execution_count": 4,
   "metadata": {},
   "outputs": [
    {
     "name": "stdout",
     "output_type": "stream",
     "text": [
      "oscar_vel2017.nc\n"
     ]
    }
   ],
   "source": [
    "dir_netcdf    = '/Users/bbarcelo/HOME_SCIENCE/Data/2019_SSS/Oscar/' \n",
    "\n",
    "file_currents = 'oscar_vel2017.nc'\n",
    "print(file_currents)\n",
    "\n",
    "   \n",
    "# current field file starts at this date, check for each new file the first date in altimetry_check_first_day.py\n",
    "date_ori = mdates.date2num(datetime(2017, 1, 1, 0, 0, 0))  "
   ]
  },
  {
   "cell_type": "markdown",
   "metadata": {},
   "source": [
    "## Running times to test"
   ]
  },
  {
   "cell_type": "code",
   "execution_count": 5,
   "metadata": {},
   "outputs": [],
   "source": [
    "rund = [7, 1] # run times for each simulation"
   ]
  },
  {
   "cell_type": "markdown",
   "metadata": {},
   "source": [
    "## Define the particles release grid"
   ]
  },
  {
   "cell_type": "code",
   "execution_count": 6,
   "metadata": {},
   "outputs": [],
   "source": [
    "# DOMAIN FOR OLEANDER SIMULATIONS, BIGGER DOMAIN\n",
    "lonmin, lonmax = -82, -63 #-74, -66 #-74, -68\n",
    "latmin, latmax =  25, 46 #35, 40 #37, 40 \n",
    "\n",
    "dx = 0.04\n",
    "\n",
    "lons, lats = np.meshgrid(np.arange(360+lonmin, 360+lonmax, dx), np.arange(latmin, latmax, dx))\n",
    "\n",
    "# we need to have lons, lats and times in a 1d vector (flatten)\n",
    "lonf, latf = lons.flatten(), lats.flatten()"
   ]
  },
  {
   "cell_type": "markdown",
   "metadata": {},
   "source": [
    "## Allow particles to leave the domain"
   ]
  },
  {
   "cell_type": "markdown",
   "metadata": {},
   "source": [
    "Allow particles to leave the domain. We need to tell Parcels that particles that leave the domain need to be deleted. We do that using a `Recovery Kernel`, which will be invoked when a particle encounters an `ErrorOutOfBounds` error:"
   ]
  },
  {
   "cell_type": "code",
   "execution_count": 7,
   "metadata": {},
   "outputs": [],
   "source": [
    "def DeleteParticle(particle, fieldset, time):\n",
    "    particle.delete()"
   ]
  },
  {
   "cell_type": "markdown",
   "metadata": {},
   "source": [
    "## File with the simulation dates"
   ]
  },
  {
   "cell_type": "code",
   "execution_count": 8,
   "metadata": {
    "scrolled": false
   },
   "outputs": [
    {
     "name": "stdout",
     "output_type": "stream",
     "text": [
      "['20170212']\n"
     ]
    }
   ],
   "source": [
    "# dir_dic    = '/Users/bbarcelo/HOME_SCIENCE/Data/2019_SSS_Ladvection/'\n",
    "# file_dic = 'Oleander_TSG_per_transect_all.pkl'\n",
    "\n",
    "# f = open(dir_dic + file_dic, 'rb')\n",
    "# dict_tsg_all = pickle.load(f)\n",
    "# f.close() \n",
    "\n",
    "# dates_strings_all = list(dict_tsg_all.keys())\n",
    "# #print(dates_strings_all)\n",
    "\n",
    "# # For now, don't do '20180111' simulations\n",
    "\n",
    "# dates_strings = dates_strings_all.copy()[:-14] #after 2019-01-12 we don't have dt altimetry data\n",
    "# dates_strings.sort(key=int)\n",
    "# print(dates_strings)\n",
    "\n",
    "# only 1 day \n",
    "date_sim     = ['20170212'] \n",
    "print(date_sim)"
   ]
  },
  {
   "cell_type": "markdown",
   "metadata": {},
   "source": [
    "## Loop, do simulations for each date in the list"
   ]
  },
  {
   "cell_type": "code",
   "execution_count": 9,
   "metadata": {},
   "outputs": [
    {
     "name": "stderr",
     "output_type": "stream",
     "text": [
      "WARNING: Casting lon data to np.float32\n",
      "WARNING: Casting lat data to np.float32\n",
      "WARNING: Flipping lat data from North-South to South-North\n",
      "WARNING: Casting depth data to np.float32\n"
     ]
    },
    {
     "name": "stdout",
     "output_type": "stream",
     "text": [
      "simulation date... 2017 2 12\n",
      "Starting simulation for run day... 7\n"
     ]
    },
    {
     "name": "stderr",
     "output_type": "stream",
     "text": [
      "INFO: Compiled JITParticleAdvectionRK4 ==> /var/folders/1r/g9d70q7x59s6sd00xl3mmyfw0000gn/T/parcels-501/96127ae6915b84fdf6fbb9c2368354e2.so\n",
      "100% (604800.0 of 604800.0) |############| Elapsed Time: 1:09:12 Time:  1:09:12\n"
     ]
    },
    {
     "name": "stdout",
     "output_type": "stream",
     "text": [
      "Simulation saved as...  sim_Oleander_back_Oscar_BD_20170212_07days.nc\n",
      "Starting simulation for run day... 1\n"
     ]
    },
    {
     "name": "stderr",
     "output_type": "stream",
     "text": [
      "INFO: Compiled JITParticleAdvectionRK4 ==> /var/folders/1r/g9d70q7x59s6sd00xl3mmyfw0000gn/T/parcels-501/543e05791c759a4aa6221c1c80a59405.so\n",
      "100% (86400.0 of 86400.0) |##############| Elapsed Time: 0:05:19 Time:  0:05:19\n"
     ]
    },
    {
     "name": "stdout",
     "output_type": "stream",
     "text": [
      "Simulation saved as...  sim_Oleander_back_Oscar_BD_20170212_01days.nc\n",
      "\n",
      "Simulations finished for this date!!\n",
      "\n",
      "SIMULATIONS FINISHED!!\n"
     ]
    }
   ],
   "source": [
    "for date in date_sim: #dates_strings:\n",
    "\n",
    "    date_time_obj = datetime.strptime(date, '%Y%m%d')\n",
    "    \n",
    "    year  = date_time_obj.year\n",
    "    month = date_time_obj.month\n",
    "    day   = date_time_obj.day\n",
    "    \n",
    "    print('simulation date...', year, month, day)\n",
    "    \n",
    "    # Define end date of the simulation (backward simulation)\n",
    "    date_fin = mdates.date2num(datetime(year, month, day, 0, 0, 0))  # Final time of the backward simulation\n",
    "    \n",
    "    \n",
    "    # First, define the names of the files containing the zonal (U) and meridional (V) velocities. \n",
    "    filenames = {'U': dir_netcdf + file_currents,\n",
    "                 'V': dir_netcdf + file_currents}\n",
    "    \n",
    "    # Then, define a dictionary of the variables (`U` and `V`) and dimensions \n",
    "    # (`lon`, `lat` and `time`; note that in this case there is no `depth` because the data \n",
    "    # is only for the surface of the ocean).\n",
    "\n",
    "    # Left: name of the variable that Parcels needs\n",
    "    # Right: name of the variable in the nc file \n",
    "    \n",
    "    variables = {'U': 'u',\n",
    "                 'V': 'v'}\n",
    "    dimensions = {'lat': 'latitude', # it has to be like this so Parcels can detect this is latitude\n",
    "                  'lon': 'longitude', # lon is from 0 to 360!\n",
    "                  'time': 'time'} # it has to be like this to not have an error\n",
    "    \n",
    "    \n",
    "    # Finally, read in the fieldset using the `FieldSet.from_netcdf` function with the \n",
    "    # above-defined `filenames`, `variables` and `dimensions`\n",
    "    \n",
    "    fieldset = FieldSet.from_netcdf(filenames, variables, dimensions)\n",
    "    \n",
    "    # Allow particles to leave the domain. We need to tell Parcels that particles that \n",
    "    # leave the domain need to be deleted. We do that using a `Recovery Kernel`, which \n",
    "    # will be invoked when a particle encounters an `ErrorOutOfBounds` error:\n",
    "    \n",
    "    #def DeleteParticle(particle, fieldset, time):\n",
    "      #particle.delete()\n",
    "        \n",
    "    # Do all simulations in a loop to test different running times\n",
    "    # Running particles in backward time is extremely simple: just provide a dt < 0.\n",
    "    \n",
    "    daysf = date_fin - date_ori # number of days between date_ori and date_fin    \n",
    "\n",
    "    for rd in rund: # number of days of the simulation (run time)   \n",
    "        daysi = daysf # the release day is the final date\n",
    "        timef = np.ones(lonf.shape) * delta(days=daysi).total_seconds()  # release particle daysi later from 1-Jan-2017\n",
    "    \n",
    "        pset = ParticleSet(fieldset=fieldset, pclass=JITParticle, lon=lonf, lat=latf, time=timef) \n",
    "\n",
    "        savefilename = 'sim_Oleander_back_Oscar_BD_'+mdates.num2date(date_fin).strftime(\"%Y%m%d\")+'_' +'%02i'% rd +'days.nc' \n",
    "        \n",
    "        print('Starting simulation for run day...', rd)\n",
    "\n",
    "        pset.execute(AdvectionRK4,                    # the kernel (which defines how particles move)\n",
    "             runtime=timedelta(days=int(rd)),   # the total length of the run\n",
    "             dt= -timedelta(hours=3),           # negative timestep for backward run\n",
    "             output_file=pset.ParticleFile(name= dirsave + savefilename, outputdt=timedelta(hours=12)), # the file name and the time step of the outputs\n",
    "             recovery={ErrorCode.ErrorOutOfBounds: DeleteParticle})  # the recovery kernel\n",
    "\n",
    "        print('Simulation saved as... ', savefilename)\n",
    "        \n",
    "    print('')\n",
    "    print('Simulations finished for this date!!')\n",
    "    print('')\n",
    "print('SIMULATIONS FINISHED!!')    "
   ]
  },
  {
   "cell_type": "code",
   "execution_count": 10,
   "metadata": {
    "scrolled": true
   },
   "outputs": [
    {
     "data": {
      "image/png": "[encoded data removed]",
      "text/plain": [
       "<Figure size 432x288 with 2 Axes>"
      ]
     },
     "metadata": {
      "needs_background": "light"
     },
     "output_type": "display_data"
    }
   ],
   "source": [
    "pset.show(field=fieldset.U)"
   ]
  }
 ],
 "metadata": {
  "kernelspec": {
   "display_name": "Python 3 (ipykernel)",
   "language": "python",
   "name": "python3"
  },
  "language_info": {
   "codemirror_mode": {
    "name": "ipython",
    "version": 3
   },
   "file_extension": ".py",
   "mimetype": "text/x-python",
   "name": "python",
   "nbconvert_exporter": "python",
   "pygments_lexer": "ipython3",
   "version": "3.9.13"
  }
 },
 "nbformat": 4,
 "nbformat_minor": 2
}
